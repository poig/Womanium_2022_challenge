{
 "cells": [
  {
   "cell_type": "markdown",
   "id": "ed76f518",
   "metadata": {},
   "source": [
    "## Task1"
   ]
  },
  {
   "cell_type": "markdown",
   "id": "8c022083",
   "metadata": {},
   "source": [
    "ty = type, sequence of object like  Ty('egg', 'qubit'), ob = object"
   ]
  },
  {
   "cell_type": "code",
   "execution_count": 1,
   "id": "8cb7fe3a",
   "metadata": {
    "scrolled": true
   },
   "outputs": [
    {
     "name": "stderr",
     "output_type": "stream",
     "text": [
      "C:\\Users\\junli\\anaconda3\\lib\\site-packages\\numpy\\_distributor_init.py:30: UserWarning: loaded more than 1 DLL from .libs:\n",
      "C:\\Users\\junli\\anaconda3\\lib\\site-packages\\numpy\\.libs\\libopenblas.EL2C6PLE4ZYW3ECEVIV3OXXGRN2NRFM2.gfortran-win_amd64.dll\n",
      "C:\\Users\\junli\\anaconda3\\lib\\site-packages\\numpy\\.libs\\libopenblas.GK7GX5KEQ4F6UYO3P26ULGBQYHGQO7J4.gfortran-win_amd64.dll\n",
      "  warnings.warn(\"loaded more than 1 DLL from .libs:\"\n"
     ]
    }
   ],
   "source": [
    "from discopy import Ob, Ty\n",
    "\n",
    "egg, white, yolk = Ty('egg'), Ty('white'), Ty('yolk')\n",
    "\n",
    "assert egg.objects == [Ob('egg')]\n",
    "assert white @ yolk == Ty(Ob('white'), Ob('yolk'))\n",
    "\n",
    "assert egg @ Ty() == egg == Ty() @ egg\n",
    "assert egg @ (white @ yolk) == (egg @ white) @ yolk"
   ]
  },
  {
   "cell_type": "markdown",
   "id": "b90fb817",
   "metadata": {},
   "source": [
    "dom = top , cod = bottom"
   ]
  },
  {
   "cell_type": "code",
   "execution_count": 2,
   "id": "b8cf7dd8",
   "metadata": {},
   "outputs": [
    {
     "data": {
      "image/png": "[encoded data removed]",
      "text/plain": [
       "<Figure size 144x144 with 1 Axes>"
      ]
     },
     "metadata": {},
     "output_type": "display_data"
    }
   ],
   "source": [
    "from discopy import Box\n",
    "\n",
    "crack = Box('crack', dom=egg, cod=white @ yolk)\n",
    "\n",
    "crack.draw(figsize=(2, 2))"
   ]
  },
  {
   "cell_type": "markdown",
   "id": "d2e5b530",
   "metadata": {},
   "source": [
    " '>>' means sequence, is like lego top to bottom,   \n",
    " '@' mean connect side to side, procees left to right\n"
   ]
  },
  {
   "cell_type": "code",
   "execution_count": 3,
   "id": "8a3b48d5",
   "metadata": {},
   "outputs": [
    {
     "data": {
      "image/png": "[encoded data removed]",
      "text/plain": [
       "<Figure size 576x144 with 1 Axes>"
      ]
     },
     "metadata": {},
     "output_type": "display_data"
    }
   ],
   "source": [
    "from discopy import drawing\n",
    "\n",
    "mix = Box('mix', white @ yolk, egg)\n",
    "\n",
    "crack_tensor_mix = crack @ mix\n",
    "crack_then_mix = crack >> mix\n",
    "\n",
    "drawing.equation(crack_tensor_mix, crack_then_mix, space=2, symbol=', ', figsize=(8, 2))"
   ]
  },
  {
   "cell_type": "markdown",
   "id": "15ab3115",
   "metadata": {},
   "source": [
    "ID = identity, link to nothing"
   ]
  },
  {
   "cell_type": "code",
   "execution_count": 4,
   "id": "9809622a",
   "metadata": {},
   "outputs": [
    {
     "data": {
      "image/png": "[encoded data removed]",
      "text/plain": [
       "<Figure size 216x144 with 1 Axes>"
      ]
     },
     "metadata": {},
     "output_type": "display_data"
    }
   ],
   "source": [
    "from discopy import Id\n",
    "\n",
    "assert crack >> Id(white @ yolk) == crack == Id(egg) >> crack\n",
    "assert crack @ Id(Ty()) == crack == Id(Ty()) @ crack\n",
    "\n",
    "sugar, yolky_paste = Ty('sugar'), Ty('yolky_paste')\n",
    "beat = Box('beat', yolk @ sugar, yolky_paste)\n",
    "\n",
    "crack_then_beat = crack @ Id(sugar) >> Id(white) @ beat\n",
    "\n",
    "crack_then_beat.draw(figsize=(3, 2))"
   ]
  },
  {
   "cell_type": "code",
   "execution_count": 5,
   "id": "93860d12",
   "metadata": {},
   "outputs": [
    {
     "data": {
      "image/png": "[encoded data removed]",
      "text/plain": [
       "<Figure size 216x288 with 1 Axes>"
      ]
     },
     "metadata": {},
     "output_type": "display_data"
    }
   ],
   "source": [
    "from discopy import Swap\n",
    "\n",
    "merge = lambda x: Box('merge', x @ x, x)\n",
    "\n",
    "crack_two_eggs = crack @ crack\\\n",
    "    >> Id(white) @ Swap(yolk, white) @ Id(yolk)\\\n",
    "    >> merge(white) @ merge(yolk)\n",
    "\n",
    "crack_two_eggs.draw(figsize=(3, 4))"
   ]
  },
  {
   "cell_type": "markdown",
   "id": "aca87c22",
   "metadata": {},
   "source": [
    "offsets is left to right(x-coor)   \n",
    "[Box('crack', Ty('egg'), Ty('white', 'yolk')),   0    \n",
    " Box('crack', Ty('egg'), Ty('white', 'yolk')),   2   \n",
    " Swap(Ty('yolk'), Ty('white')),   1   \n",
    " Box('merge', Ty('white', 'white'), Ty('white')),   0   \n",
    " Box('merge', Ty('yolk', 'yolk'), Ty('yolk'))]   1   "
   ]
  },
  {
   "cell_type": "code",
   "execution_count": 6,
   "id": "99a5dbe5",
   "metadata": {},
   "outputs": [
    {
     "name": "stdout",
     "output_type": "stream",
     "text": [
      "assert crack_two_eggs == Diagram(\n",
      "    dom=Ty('egg', 'egg'),\n",
      "    cod=Ty('white', 'yolk'),\n",
      "    boxes=[Box('crack', Ty('egg'), Ty('white', 'yolk')),\n",
      "           Box('crack', Ty('egg'), Ty('white', 'yolk')),\n",
      "           Swap(Ty('yolk'), Ty('white')),\n",
      "           Box('merge', Ty('white', 'white'), Ty('white')),\n",
      "           Box('merge', Ty('yolk', 'yolk'), Ty('yolk'))],\n",
      "    offsets=[0, 2, 1, 0, 1])\n"
     ]
    }
   ],
   "source": [
    "from discopy import Diagram\n",
    "\n",
    "def pretty(diagram):\n",
    "    return \"Diagram(\\n\"\\\n",
    "    + \"    dom={},\\n\".format(repr(diagram.dom))\\\n",
    "    + \"    cod={},\\n\".format(repr(diagram.cod))\\\n",
    "    + \"    boxes=[{}],\\n\".format(',\\n           '.join(map(repr, diagram.boxes)))\\\n",
    "    + \"    offsets={})\".format(diagram.offsets)\n",
    "\n",
    "assertion = \"assert crack_two_eggs == {}\".format(pretty(crack_two_eggs))\n",
    "\n",
    "exec(assertion)\n",
    "print(assertion)"
   ]
  },
  {
   "cell_type": "markdown",
   "id": "47c7f5ba",
   "metadata": {},
   "source": [
    "functor apply offsets"
   ]
  },
  {
   "cell_type": "code",
   "execution_count": 7,
   "id": "604066f4",
   "metadata": {},
   "outputs": [
    {
     "data": {
      "image/png": "[encoded data removed]",
      "text/plain": [
       "<Figure size 504x252 with 1 Axes>"
      ]
     },
     "metadata": {},
     "output_type": "display_data"
    }
   ],
   "source": [
    "from discopy import Functor\n",
    "\n",
    "crack2 = Box(\"crack\", egg @ egg, white @ yolk)\n",
    "\n",
    "open_crack2 = Functor(\n",
    "    ob=lambda x: x,\n",
    "    ar={crack2: crack_two_eggs, beat: beat})\n",
    "\n",
    "crack2_then_beat = crack2 @ Id(sugar) >> Id(white) @ beat\n",
    "\n",
    "drawing.equation(\n",
    "    crack2_then_beat,\n",
    "    open_crack2(crack2_then_beat),\n",
    "    symbol='$\\\\mapsto$', figsize=(7, 3.5))"
   ]
  },
  {
   "cell_type": "code",
   "execution_count": 8,
   "id": "f5734855",
   "metadata": {},
   "outputs": [
    {
     "data": {
      "image/png": "[encoded data removed]",
      "text/plain": [
       "<Figure size 216x144 with 1 Axes>"
      ]
     },
     "metadata": {},
     "output_type": "display_data"
    }
   ],
   "source": [
    "oeuf, blanc, jaune, sucre = Ty(\"oeuf\"), Ty(\"blanc\"), Ty(\"jaune\"), Ty(\"sucre\")\n",
    "\n",
    "ouvrir = Box(\"ouvrir\", oeuf, blanc @ jaune)\n",
    "battre = Box(\"battre\", jaune @ sucre, jaune)\n",
    "\n",
    "english2french = Functor(\n",
    "    ob={egg: oeuf,\n",
    "        white: blanc,\n",
    "        yolk: jaune,\n",
    "        sugar: sucre,\n",
    "        yolky_paste: jaune},\n",
    "    ar={crack: ouvrir,\n",
    "        beat: battre})\n",
    "\n",
    "english2french(crack_then_beat).draw(figsize=(3, 2))"
   ]
  },
  {
   "cell_type": "code",
   "execution_count": 11,
   "id": "3c3cde39",
   "metadata": {},
   "outputs": [],
   "source": [
    "鸡蛋, 蛋白, 蛋黄, 糖 = Ty(\"鸡蛋\"), Ty(\"白色\"), Ty(\"蛋黄\"), Ty(\"糖\")\n",
    "打碎 = Box(\"打碎\", 鸡蛋, 蛋白 @ 蛋黄)\n",
    "揉打 = Box(\"揉打\", 蛋黄 @ 糖, 蛋黄)\n",
    "\n",
    "english2chinese = Functor(\n",
    "    ob={egg: 鸡蛋,\n",
    "        white: 蛋白,\n",
    "        yolk: 蛋黄,\n",
    "        sugar: 糖,\n",
    "        yolky_paste: 蛋黄},\n",
    "    ar={crack: 打碎,\n",
    "        beat: 揉打})"
   ]
  },
  {
   "cell_type": "code",
   "execution_count": 12,
   "id": "b04fb6d2",
   "metadata": {},
   "outputs": [
    {
     "name": "stderr",
     "output_type": "stream",
     "text": [
      "C:\\Users\\junli\\AppData\\Roaming\\Python\\Python38\\site-packages\\IPython\\core\\pylabtools.py:151: UserWarning: Glyph 25171 (\\N{CJK UNIFIED IDEOGRAPH-6253}) missing from current font.\n",
      "  fig.canvas.print_figure(bytes_io, **kw)\n",
      "C:\\Users\\junli\\AppData\\Roaming\\Python\\Python38\\site-packages\\IPython\\core\\pylabtools.py:151: UserWarning: Glyph 30862 (\\N{CJK UNIFIED IDEOGRAPH-788E}) missing from current font.\n",
      "  fig.canvas.print_figure(bytes_io, **kw)\n",
      "C:\\Users\\junli\\AppData\\Roaming\\Python\\Python38\\site-packages\\IPython\\core\\pylabtools.py:151: UserWarning: Glyph 25545 (\\N{CJK UNIFIED IDEOGRAPH-63C9}) missing from current font.\n",
      "  fig.canvas.print_figure(bytes_io, **kw)\n"
     ]
    },
    {
     "data": {
      "image/png": "[encoded data removed]",
      "text/plain": [
       "<Figure size 288x288 with 1 Axes>"
      ]
     },
     "metadata": {},
     "output_type": "display_data"
    }
   ],
   "source": [
    "混合 = lambda x: Box(\"混合\", x @ x, x)\n",
    "\n",
    "for x in [white, yolk]:\n",
    "    english2chinese.ar[merge(x)] = 混合(english2chinese(x))\n",
    "english2chinese(open_crack2(crack2_then_beat)).draw(figsize=(4, 4))"
   ]
  },
  {
   "cell_type": "code",
   "execution_count": 67,
   "id": "2be74335",
   "metadata": {},
   "outputs": [
    {
     "data": {
      "image/png": "[encoded data removed]",
      "text/plain": [
       "<Figure size 288x288 with 1 Axes>"
      ]
     },
     "metadata": {},
     "output_type": "display_data"
    }
   ],
   "source": [
    "melanger = lambda x: Box(\"mélanger\", x @ x, x)\n",
    "\n",
    "for x in [white, yolk]:\n",
    "    english2french.ar[merge(x)] = melanger(english2french(x))\n",
    "\n",
    "english2french(open_crack2(crack2_then_beat)).draw(figsize=(4, 4))"
   ]
  },
  {
   "cell_type": "code",
   "execution_count": 15,
   "id": "c720db11",
   "metadata": {},
   "outputs": [
    {
     "data": {
      "text/plain": [
       "array([[0, 1],\n",
       "       [1, 0]])"
      ]
     },
     "execution_count": 15,
     "metadata": {},
     "output_type": "execute_result"
    }
   ],
   "source": [
    "from discopy import Dim, Tensor\n",
    "\n",
    "matrix = Tensor(Dim(2), Dim(2), [0, 1, 1, 0])\n",
    "\n",
    "matrix.array"
   ]
  },
  {
   "cell_type": "code",
   "execution_count": 17,
   "id": "002e1e01",
   "metadata": {},
   "outputs": [
    {
     "data": {
      "text/plain": [
       "Tensor(dom=Dim(1), cod=Dim(2), array=[1, 0])"
      ]
     },
     "execution_count": 17,
     "metadata": {},
     "output_type": "execute_result"
    }
   ],
   "source": [
    "assert matrix >> Tensor.id(Dim(2)) == matrix == Tensor.id(Dim(2)) >> matrix\n",
    "\n",
    "vector = Tensor(Dim(1), Dim(2), [0, 1])\n",
    "\n",
    "(vector >> matrix)"
   ]
  },
  {
   "cell_type": "code",
   "execution_count": 18,
   "id": "f25f0e24",
   "metadata": {},
   "outputs": [
    {
     "data": {
      "text/plain": [
       "Tensor(dom=Dim(2), cod=Dim(2), array=[1.+0.j, 0.+0.j, 0.+0.j, 1.+0.j])"
      ]
     },
     "execution_count": 18,
     "metadata": {},
     "output_type": "execute_result"
    }
   ],
   "source": [
    "matrix = Tensor(Dim(2), Dim(2), [0, -1j, 1j, 0])\n",
    "\n",
    "matrix >> matrix"
   ]
  },
  {
   "cell_type": "code",
   "execution_count": 19,
   "id": "e22d3cd6",
   "metadata": {},
   "outputs": [
    {
     "data": {
      "text/plain": [
       "Tensor(dom=Dim(1), cod=Dim(1), array=[0.-1.j])"
      ]
     },
     "execution_count": 19,
     "metadata": {},
     "output_type": "execute_result"
    }
   ],
   "source": [
    "vector1 = Tensor(Dim(1), Dim(2), [-1j, 1j])\n",
    "\n",
    "vector >> vector1[::-1]"
   ]
  },
  {
   "cell_type": "markdown",
   "id": "123037c2",
   "metadata": {},
   "source": [
    "zeros,id,swap"
   ]
  },
  {
   "cell_type": "code",
   "execution_count": 22,
   "id": "7b25e1f0",
   "metadata": {},
   "outputs": [],
   "source": [
    "swap = Tensor.swap(Dim(2), Dim(3))\n",
    "\n",
    "assert swap.dom == Dim(2) @ Dim(3) and swap.cod == Dim(3) @ Dim(2)\n",
    "assert swap >> swap[::-1] == Tensor.id(Dim(2, 3))\n",
    "assert swap[::-1] >> swap == Tensor.id(Dim(3, 2))\n",
    "\n",
    "matrix1 = Tensor(Dim(3), Dim(3), list(range(9)))\n",
    "\n",
    "assert vector @ matrix1 >> swap == matrix1 @ vector\n",
    "assert swap >> matrix1 @ matrix >> swap[::-1] == matrix @ matrix1"
   ]
  },
  {
   "cell_type": "code",
   "execution_count": 25,
   "id": "c04debf5",
   "metadata": {},
   "outputs": [
    {
     "name": "stdout",
     "output_type": "stream",
     "text": [
      "cup == Tensor(dom=Dim(2, 2), cod=Dim(1), array=[1., 0., 0., 1.])\n",
      "cap == Tensor(dom=Dim(1), cod=Dim(2, 2), array=[1., 0., 0., 1.])\n"
     ]
    }
   ],
   "source": [
    "cup, cap = Tensor.cups(Dim(2), Dim(2)), Tensor.caps(Dim(2), Dim(2))\n",
    "\n",
    "print(\"cup == {}\".format(cup))\n",
    "print(\"cap == {}\".format(cap))\n"
   ]
  },
  {
   "cell_type": "markdown",
   "id": "439edf5f",
   "metadata": {},
   "source": [
    "cup and cap is identity in difference way"
   ]
  },
  {
   "cell_type": "code",
   "execution_count": 26,
   "id": "f8b84461",
   "metadata": {},
   "outputs": [],
   "source": [
    "_id = Tensor.id(Dim(2))\n",
    "\n",
    "assert cap @ _id >> _id @ cup == _id == _id @ cap >> cup @ _id"
   ]
  },
  {
   "cell_type": "code",
   "execution_count": 34,
   "id": "8c8a3128",
   "metadata": {},
   "outputs": [
    {
     "data": {
      "text/plain": [
       "Tensor(dom=Dim(2, 2, 2), cod=Dim(2), array=[1., 0., 0., 1., 0., 0., 0., 0., 0., 0., 0., 0., 1., 0., 0., 1.])"
      ]
     },
     "execution_count": 34,
     "metadata": {},
     "output_type": "execute_result"
    }
   ],
   "source": [
    "cup @ _id"
   ]
  },
  {
   "cell_type": "code",
   "execution_count": 33,
   "id": "e8bb9c0f",
   "metadata": {},
   "outputs": [
    {
     "data": {
      "image/png": "[encoded data removed]",
      "text/plain": [
       "<Figure size 360x72 with 1 Axes>"
      ]
     },
     "metadata": {},
     "output_type": "display_data"
    }
   ],
   "source": [
    "drawing.equation(cap @ _id >> _id @ cup, _id, _id @ cap >> cup @ _id, figsize=(5, 1))"
   ]
  },
  {
   "cell_type": "code",
   "execution_count": 44,
   "id": "383a56cd",
   "metadata": {},
   "outputs": [
    {
     "data": {
      "image/png": "[encoded data removed]",
      "text/plain": [
       "<Figure size 144x144 with 1 Axes>"
      ]
     },
     "metadata": {},
     "output_type": "display_data"
    }
   ],
   "source": [
    "from discopy.quantum import qubit, H, Id, CX, QuantumGate\n",
    "import numpy as np\n",
    "\n",
    "assert H == QuantumGate(\"H\", 1, 1 / np.sqrt(2) * np.array([1, 1, 1, -1]), _dagger=None)\n",
    "\n",
    "circuit = H @ Id(qubit) >> CX\n",
    "\n",
    "circuit.draw(figsize=(2, 2), draw_type_labels=True, margins=(.1, .1))"
   ]
  },
  {
   "cell_type": "code",
   "execution_count": 41,
   "id": "f9305838",
   "metadata": {},
   "outputs": [
    {
     "name": "stdout",
     "output_type": "stream",
     "text": [
      "CQMap(dom=Q(Dim(2)), cod=CQ(), array=[1.+0.j, 0.+0.j, 0.+0.j, 1.+0.j])\n",
      "CQMap(dom=Q(Dim(2)), cod=C(Dim(2)), array=[1.+0.j, 0.+0.j, 0.+0.j, 0.+0.j, 0.+0.j, 0.+0.j, 0.+0.j, 1.+0.j])\n"
     ]
    }
   ],
   "source": [
    "from discopy.quantum import Measure, Discard, Ket, Bra\n",
    "\n",
    "print(Discard().eval())\n",
    "print(Measure().eval())"
   ]
  },
  {
   "cell_type": "code",
   "execution_count": 45,
   "id": "7efce8c6",
   "metadata": {},
   "outputs": [
    {
     "data": {
      "image/png": "[encoded data removed]",
      "text/plain": [
       "<Figure size 144x288 with 1 Axes>"
      ]
     },
     "metadata": {},
     "output_type": "display_data"
    },
    {
     "data": {
      "text/plain": [
       "CQMap(dom=CQ(), cod=C(Dim(2)), array=[0.5+0.j, 0.5+0.j])"
      ]
     },
     "execution_count": 45,
     "metadata": {},
     "output_type": "execute_result"
    }
   ],
   "source": [
    "\n",
    "(Ket(0, 0) >> circuit >> Measure() @ Discard()).draw(figsize=(2, 4))\n",
    "(Ket(0, 0) >> circuit >> Measure() @ Discard()).eval()"
   ]
  },
  {
   "cell_type": "code",
   "execution_count": 46,
   "id": "cea6c731",
   "metadata": {},
   "outputs": [
    {
     "data": {
      "image/png": "[encoded data removed]",
      "text/plain": [
       "<Figure size 360x360 with 1 Axes>"
      ]
     },
     "metadata": {},
     "output_type": "display_data"
    }
   ],
   "source": [
    "from discopy import Ty, Id, Word, Cup, pregroup\n",
    "\n",
    "n, s = Ty('n'), Ty('s')\n",
    "\n",
    "Alice = Word(\"Alice\", n)\n",
    "loves = Word(\"loves\", n.r @ s @ n.l)\n",
    "Bob = Word(\"Bob\", n)\n",
    "\n",
    "grammar = Cup(n, n.r) @ Id(s) @ Cup(n.l, n)\n",
    "\n",
    "sentence = Alice @ loves @ Bob >> grammar\n",
    "pregroup.draw(sentence, figsize=(5, 5))"
   ]
  },
  {
   "cell_type": "markdown",
   "id": "c3542cba",
   "metadata": {},
   "source": [
    "## Task 2"
   ]
  },
  {
   "cell_type": "markdown",
   "id": "dd7889c1",
   "metadata": {},
   "source": [
    "Can QNLP offer the possibility to build interpretable systems?"
   ]
  },
  {
   "cell_type": "markdown",
   "id": "d58fe550",
   "metadata": {},
   "source": [
    "- food: “skilful cook prepares meal”\n",
    "- IT: “programmer writes complicated code”"
   ]
  },
  {
   "cell_type": "code",
   "execution_count": 59,
   "id": "b5660959",
   "metadata": {},
   "outputs": [
    {
     "data": {
      "image/png": "[encoded data removed]",
      "text/plain": [
       "<Figure size 360x360 with 1 Axes>"
      ]
     },
     "metadata": {},
     "output_type": "display_data"
    }
   ],
   "source": [
    "n, s = Ty('n'), Ty('s')\n",
    "\n",
    "skillful = Word(\"skillfil\", n @ n.l)\n",
    "cook = Word(\"cook\", n)\n",
    "prepares = Word(\"prepares\", n.r @ s @ n.l)\n",
    "meal = Word(\"meal\",n)\n",
    "\n",
    "sentence = skillful @ cook @ prepares @ meal \\\n",
    "            >> Id(n) @ Cup(n.l,n) @ Id(n.r @ s) @ Cup(n.l,n)\\\n",
    "            >> Cup(n,n.r) @ Id(s)\n",
    "pregroup.draw(sentence, figsize=(5, 5))"
   ]
  },
  {
   "cell_type": "code",
   "execution_count": 4,
   "id": "6451954f",
   "metadata": {},
   "outputs": [
    {
     "data": {
      "image/png": "[encoded data removed]",
      "text/plain": [
       "<Figure size 1008x216 with 1 Axes>"
      ]
     },
     "metadata": {},
     "output_type": "display_data"
    }
   ],
   "source": [
    "from lambeq import BobcatParser\n",
    "from discopy import grammar\n",
    "\n",
    "sentence = 'skilful cook prepares meal'\n",
    "\n",
    "# Parse the sentence and convert it into a string diagram\n",
    "parser = BobcatParser(verbose='suppress')\n",
    "diagram = parser.sentence2diagram(sentence)\n",
    "\n",
    "grammar.draw(diagram, figsize=(14,3), fontsize=12)"
   ]
  },
  {
   "cell_type": "code",
   "execution_count": 5,
   "id": "46356a2e",
   "metadata": {},
   "outputs": [],
   "source": [
    "sentence = [\"skilful cook prepares meal\", \"programmer writes complicated code\"]"
   ]
  },
  {
   "cell_type": "code",
   "execution_count": 6,
   "id": "b89fd272",
   "metadata": {},
   "outputs": [
    {
     "name": "stderr",
     "output_type": "stream",
     "text": [
      "Tagging sentences.\n",
      "Parsing tagged sentences.\n",
      "Turning parse trees to diagrams.\n"
     ]
    }
   ],
   "source": [
    "from lambeq import BobcatParser\n",
    "\n",
    "parser = BobcatParser(verbose='text')\n",
    "\n",
    "raw_train_diagrams = parser.sentences2diagrams(sentence)"
   ]
  },
  {
   "cell_type": "code",
   "execution_count": 9,
   "id": "241e3d7a",
   "metadata": {},
   "outputs": [],
   "source": [
    "from lambeq import remove_cups\n",
    "train_diagrams = [remove_cups(diagram) for diagram in raw_train_diagrams]"
   ]
  },
  {
   "cell_type": "code",
   "execution_count": 10,
   "id": "c0aa7772",
   "metadata": {},
   "outputs": [
    {
     "data": {
      "image/png": "[encoded data removed]",
      "text/plain": [
       "<Figure size 648x864 with 1 Axes>"
      ]
     },
     "metadata": {},
     "output_type": "display_data"
    }
   ],
   "source": [
    "from lambeq import AtomicType, IQPAnsatz\n",
    "\n",
    "ansatz = IQPAnsatz({AtomicType.NOUN: 1, AtomicType.SENTENCE: 1},\n",
    "                   n_layers=1, n_single_qubit_params=3)\n",
    "\n",
    "train_circuits = [ansatz(diagram) for diagram in train_diagrams]\n",
    "\n",
    "train_circuits[0].draw(figsize=(9, 12))"
   ]
  },
  {
   "cell_type": "code",
   "execution_count": 12,
   "id": "eeb95f62",
   "metadata": {},
   "outputs": [],
   "source": [
    "from lambeq import NumpyModel\n",
    "\n",
    "all_circuits = train_circuits\n",
    "\n",
    "model = NumpyModel.from_diagrams(all_circuits, use_jit=True)"
   ]
  },
  {
   "cell_type": "code",
   "execution_count": 13,
   "id": "92cebb01",
   "metadata": {},
   "outputs": [],
   "source": [
    "loss = lambda y_hat, y: -np.sum(y * np.log(y_hat)) / len(y)  # binary cross-entropy loss\n",
    "acc = lambda y_hat, y: np.sum(np.round(y_hat) == y) / len(y) / 2  # half due to double-counting"
   ]
  },
  {
   "cell_type": "code",
   "execution_count": 16,
   "id": "80a7ba97",
   "metadata": {},
   "outputs": [],
   "source": [
    "import numpy as np\n",
    "\n",
    "BATCH_SIZE = 30\n",
    "LEARNING_RATE = 3e-2\n",
    "EPOCHS = 120\n",
    "SEED = 0"
   ]
  },
  {
   "cell_type": "code",
   "execution_count": 17,
   "id": "f506f8d9",
   "metadata": {},
   "outputs": [],
   "source": [
    "from lambeq import QuantumTrainer, SPSAOptimizer\n",
    "\n",
    "trainer = QuantumTrainer(\n",
    "    model,\n",
    "    loss_function=loss,\n",
    "    epochs=EPOCHS,\n",
    "    optimizer=SPSAOptimizer,\n",
    "    optim_hyperparams={'a': 0.2, 'c': 0.06, 'A':0.01*EPOCHS},\n",
    "    evaluate_functions={'acc': acc},\n",
    "    evaluate_on_train=True,\n",
    "    verbose = 'text',\n",
    "    seed=0\n",
    ")"
   ]
  },
  {
   "cell_type": "code",
   "execution_count": 21,
   "id": "98b44c98",
   "metadata": {},
   "outputs": [
    {
     "ename": "NameError",
     "evalue": "name 'train_labels' is not defined",
     "output_type": "error",
     "traceback": [
      "\u001b[1;31m---------------------------------------------------------------------------\u001b[0m",
      "\u001b[1;31mNameError\u001b[0m                                 Traceback (most recent call last)",
      "Input \u001b[1;32mIn [21]\u001b[0m, in \u001b[0;36m<cell line: 3>\u001b[1;34m()\u001b[0m\n\u001b[0;32m      1\u001b[0m \u001b[38;5;28;01mfrom\u001b[39;00m \u001b[38;5;21;01mlambeq\u001b[39;00m \u001b[38;5;28;01mimport\u001b[39;00m Dataset\n\u001b[0;32m      3\u001b[0m train_dataset \u001b[38;5;241m=\u001b[39m Dataset(\n\u001b[0;32m      4\u001b[0m             train_circuits,\n\u001b[1;32m----> 5\u001b[0m             \u001b[43mtrain_labels\u001b[49m,\n\u001b[0;32m      6\u001b[0m             batch_size\u001b[38;5;241m=\u001b[39mBATCH_SIZE)\n\u001b[0;32m      8\u001b[0m val_dataset \u001b[38;5;241m=\u001b[39m Dataset(dev_circuits, dev_labels, shuffle\u001b[38;5;241m=\u001b[39m\u001b[38;5;28;01mFalse\u001b[39;00m)\n",
      "\u001b[1;31mNameError\u001b[0m: name 'train_labels' is not defined"
     ]
    }
   ],
   "source": [
    "from lambeq import Dataset\n",
    "\n",
    "train_dataset = Dataset(\n",
    "            train_circuits,\n",
    "            train_labels,\n",
    "            batch_size=BATCH_SIZE)\n",
    "\n",
    "val_dataset = Dataset(dev_circuits, dev_labels, shuffle=False)"
   ]
  },
  {
   "cell_type": "code",
   "execution_count": 1,
   "id": "d6c4db04",
   "metadata": {},
   "outputs": [
    {
     "name": "stderr",
     "output_type": "stream",
     "text": [
      "C:\\Users\\junli\\anaconda3\\envs\\womanium\\lib\\site-packages\\lambeq\\text2diagram\\ccg_parser.py:24: TqdmWarning: IProgress not found. Please update jupyter and ipywidgets. See https://ipywidgets.readthedocs.io/en/stable/user_install.html\n",
      "  from tqdm.autonotebook import tqdm\n"
     ]
    }
   ],
   "source": [
    "from lambeq import BobcatParser, TreeReader, TreeReaderMode"
   ]
  },
  {
   "cell_type": "code",
   "execution_count": 2,
   "id": "d2b0ab15",
   "metadata": {},
   "outputs": [
    {
     "data": {
      "image/png": "[encoded data removed]",
      "text/plain": [
       "<Figure size 432x288 with 1 Axes>"
      ]
     },
     "metadata": {},
     "output_type": "display_data"
    }
   ],
   "source": [
    "sentence = 'John walks in the park.'\n",
    "reader = TreeReader(ccg_parser=BobcatParser, mode = TreeReaderMode.NO_TYPE)\n",
    "reader.sentence2diagram(sentence=sentence).draw()"
   ]
  },
  {
   "cell_type": "code",
   "execution_count": 3,
   "id": "5dec262c",
   "metadata": {},
   "outputs": [
    {
     "ename": "OSError",
     "evalue": "Unable to load weights from pytorch checkpoint file for 'C:\\Users\\junli\\.cache\\lambeq\\bobcat\\bert\\pytorch_model.bin' at 'C:\\Users\\junli\\.cache\\lambeq\\bobcat\\bert\\pytorch_model.bin'. If you tried to load a PyTorch model from a TF 2.0 checkpoint, please set from_tf=True.",
     "output_type": "error",
     "traceback": [
      "\u001b[1;31m---------------------------------------------------------------------------\u001b[0m",
      "\u001b[1;31mRuntimeError\u001b[0m                              Traceback (most recent call last)",
      "\u001b[1;32m~\\AppData\\Roaming\\Python\\Python38\\site-packages\\transformers\\modeling_utils.py\u001b[0m in \u001b[0;36mload_state_dict\u001b[1;34m(checkpoint_file)\u001b[0m\n\u001b[0;32m    366\u001b[0m     \u001b[1;32mtry\u001b[0m\u001b[1;33m:\u001b[0m\u001b[1;33m\u001b[0m\u001b[1;33m\u001b[0m\u001b[0m\n\u001b[1;32m--> 367\u001b[1;33m         \u001b[1;32mreturn\u001b[0m \u001b[0mtorch\u001b[0m\u001b[1;33m.\u001b[0m\u001b[0mload\u001b[0m\u001b[1;33m(\u001b[0m\u001b[0mcheckpoint_file\u001b[0m\u001b[1;33m,\u001b[0m \u001b[0mmap_location\u001b[0m\u001b[1;33m=\u001b[0m\u001b[1;34m\"cpu\"\u001b[0m\u001b[1;33m)\u001b[0m\u001b[1;33m\u001b[0m\u001b[1;33m\u001b[0m\u001b[0m\n\u001b[0m\u001b[0;32m    368\u001b[0m     \u001b[1;32mexcept\u001b[0m \u001b[0mException\u001b[0m \u001b[1;32mas\u001b[0m \u001b[0me\u001b[0m\u001b[1;33m:\u001b[0m\u001b[1;33m\u001b[0m\u001b[1;33m\u001b[0m\u001b[0m\n",
      "\u001b[1;32m~\\anaconda3\\lib\\site-packages\\torch\\serialization.py\u001b[0m in \u001b[0;36mload\u001b[1;34m(f, map_location, pickle_module, **pickle_load_args)\u001b[0m\n\u001b[0;32m    526\u001b[0m \u001b[1;33m\u001b[0m\u001b[0m\n\u001b[1;32m--> 527\u001b[1;33m \u001b[1;33m\u001b[0m\u001b[0m\n\u001b[0m\u001b[0;32m    528\u001b[0m \u001b[1;32mdef\u001b[0m \u001b[0m_save\u001b[0m\u001b[1;33m(\u001b[0m\u001b[0mobj\u001b[0m\u001b[1;33m,\u001b[0m \u001b[0mzip_file\u001b[0m\u001b[1;33m,\u001b[0m \u001b[0mpickle_module\u001b[0m\u001b[1;33m,\u001b[0m \u001b[0mpickle_protocol\u001b[0m\u001b[1;33m)\u001b[0m\u001b[1;33m:\u001b[0m\u001b[1;33m\u001b[0m\u001b[1;33m\u001b[0m\u001b[0m\n",
      "\u001b[1;32m~\\anaconda3\\lib\\site-packages\\torch\\serialization.py\u001b[0m in \u001b[0;36m__init__\u001b[1;34m(self, name_or_buffer)\u001b[0m\n\u001b[0;32m    223\u001b[0m \u001b[1;32mclass\u001b[0m \u001b[0m_open_buffer_writer\u001b[0m\u001b[1;33m(\u001b[0m\u001b[0m_opener\u001b[0m\u001b[1;33m)\u001b[0m\u001b[1;33m:\u001b[0m\u001b[1;33m\u001b[0m\u001b[1;33m\u001b[0m\u001b[0m\n\u001b[1;32m--> 224\u001b[1;33m     \u001b[1;32mdef\u001b[0m \u001b[0m__exit__\u001b[0m\u001b[1;33m(\u001b[0m\u001b[0mself\u001b[0m\u001b[1;33m,\u001b[0m \u001b[1;33m*\u001b[0m\u001b[0margs\u001b[0m\u001b[1;33m)\u001b[0m\u001b[1;33m:\u001b[0m\u001b[1;33m\u001b[0m\u001b[1;33m\u001b[0m\u001b[0m\n\u001b[0m\u001b[0;32m    225\u001b[0m         \u001b[0mself\u001b[0m\u001b[1;33m.\u001b[0m\u001b[0mfile_like\u001b[0m\u001b[1;33m.\u001b[0m\u001b[0mflush\u001b[0m\u001b[1;33m(\u001b[0m\u001b[1;33m)\u001b[0m\u001b[1;33m\u001b[0m\u001b[1;33m\u001b[0m\u001b[0m\n",
      "\u001b[1;31mRuntimeError\u001b[0m: version_ <= kMaxSupportedFileFormatVersion INTERNAL ASSERT FAILED at ..\\caffe2\\serialize\\inline_container.cc:132, please report a bug to PyTorch. Attempted to read a PyTorch file with version 3, but the maximum supported version for reading is 2. Your PyTorch installation may be too old. (init at ..\\caffe2\\serialize\\inline_container.cc:132)\n(no backtrace available)",
      "\nDuring handling of the above exception, another exception occurred:\n",
      "\u001b[1;31mUnicodeDecodeError\u001b[0m                        Traceback (most recent call last)",
      "\u001b[1;32m~\\AppData\\Roaming\\Python\\Python38\\site-packages\\transformers\\modeling_utils.py\u001b[0m in \u001b[0;36mload_state_dict\u001b[1;34m(checkpoint_file)\u001b[0m\n\u001b[0;32m    370\u001b[0m             \u001b[1;32mwith\u001b[0m \u001b[0mopen\u001b[0m\u001b[1;33m(\u001b[0m\u001b[0mcheckpoint_file\u001b[0m\u001b[1;33m)\u001b[0m \u001b[1;32mas\u001b[0m \u001b[0mf\u001b[0m\u001b[1;33m:\u001b[0m\u001b[1;33m\u001b[0m\u001b[1;33m\u001b[0m\u001b[0m\n\u001b[1;32m--> 371\u001b[1;33m                 \u001b[1;32mif\u001b[0m \u001b[0mf\u001b[0m\u001b[1;33m.\u001b[0m\u001b[0mread\u001b[0m\u001b[1;33m(\u001b[0m\u001b[1;33m)\u001b[0m\u001b[1;33m.\u001b[0m\u001b[0mstartswith\u001b[0m\u001b[1;33m(\u001b[0m\u001b[1;34m\"version\"\u001b[0m\u001b[1;33m)\u001b[0m\u001b[1;33m:\u001b[0m\u001b[1;33m\u001b[0m\u001b[1;33m\u001b[0m\u001b[0m\n\u001b[0m\u001b[0;32m    372\u001b[0m                     raise OSError(\n",
      "\u001b[1;32m~\\anaconda3\\lib\\encodings\\cp1252.py\u001b[0m in \u001b[0;36mdecode\u001b[1;34m(self, input, final)\u001b[0m\n\u001b[0;32m     22\u001b[0m     \u001b[1;32mdef\u001b[0m \u001b[0mdecode\u001b[0m\u001b[1;33m(\u001b[0m\u001b[0mself\u001b[0m\u001b[1;33m,\u001b[0m \u001b[0minput\u001b[0m\u001b[1;33m,\u001b[0m \u001b[0mfinal\u001b[0m\u001b[1;33m=\u001b[0m\u001b[1;32mFalse\u001b[0m\u001b[1;33m)\u001b[0m\u001b[1;33m:\u001b[0m\u001b[1;33m\u001b[0m\u001b[1;33m\u001b[0m\u001b[0m\n\u001b[1;32m---> 23\u001b[1;33m         \u001b[1;32mreturn\u001b[0m \u001b[0mcodecs\u001b[0m\u001b[1;33m.\u001b[0m\u001b[0mcharmap_decode\u001b[0m\u001b[1;33m(\u001b[0m\u001b[0minput\u001b[0m\u001b[1;33m,\u001b[0m\u001b[0mself\u001b[0m\u001b[1;33m.\u001b[0m\u001b[0merrors\u001b[0m\u001b[1;33m,\u001b[0m\u001b[0mdecoding_table\u001b[0m\u001b[1;33m)\u001b[0m\u001b[1;33m[\u001b[0m\u001b[1;36m0\u001b[0m\u001b[1;33m]\u001b[0m\u001b[1;33m\u001b[0m\u001b[1;33m\u001b[0m\u001b[0m\n\u001b[0m\u001b[0;32m     24\u001b[0m \u001b[1;33m\u001b[0m\u001b[0m\n",
      "\u001b[1;31mUnicodeDecodeError\u001b[0m: 'charmap' codec can't decode byte 0x81 in position 1793: character maps to <undefined>",
      "\nDuring handling of the above exception, another exception occurred:\n",
      "\u001b[1;31mOSError\u001b[0m                                   Traceback (most recent call last)",
      "\u001b[1;32m~\\AppData\\Local\\Temp\\ipykernel_5560\\4219034208.py\u001b[0m in \u001b[0;36m<cell line: 1>\u001b[1;34m()\u001b[0m\n\u001b[1;32m----> 1\u001b[1;33m \u001b[0mreader\u001b[0m \u001b[1;33m=\u001b[0m \u001b[0mTreeReader\u001b[0m\u001b[1;33m(\u001b[0m\u001b[0mccg_parser\u001b[0m\u001b[1;33m=\u001b[0m\u001b[0mBobcatParser\u001b[0m\u001b[1;33m,\u001b[0m \u001b[0mmode\u001b[0m\u001b[1;33m=\u001b[0m\u001b[0mTreeReaderMode\u001b[0m\u001b[1;33m.\u001b[0m\u001b[0mRULE_ONLY\u001b[0m\u001b[1;33m)\u001b[0m\u001b[1;33m\u001b[0m\u001b[1;33m\u001b[0m\u001b[0m\n\u001b[0m\u001b[0;32m      2\u001b[0m \u001b[0mreader\u001b[0m\u001b[1;33m.\u001b[0m\u001b[0msentence2diagram\u001b[0m\u001b[1;33m(\u001b[0m\u001b[0msentence\u001b[0m\u001b[1;33m)\u001b[0m\u001b[1;33m.\u001b[0m\u001b[0mdraw\u001b[0m\u001b[1;33m(\u001b[0m\u001b[1;33m)\u001b[0m\u001b[1;33m\u001b[0m\u001b[1;33m\u001b[0m\u001b[0m\n",
      "\u001b[1;32m~\\AppData\\Roaming\\Python\\Python38\\site-packages\\lambeq\\text2diagram\\tree_reader.py\u001b[0m in \u001b[0;36m__init__\u001b[1;34m(self, ccg_parser, mode, word_type, suppress_exceptions)\u001b[0m\n\u001b[0;32m     95\u001b[0m                 raise ValueError(f'{ccg_parser} should be a CCGParser or a '\n\u001b[0;32m     96\u001b[0m                                  'function that returns a CCGParser.')\n\u001b[1;32m---> 97\u001b[1;33m             \u001b[0mccg_parser\u001b[0m \u001b[1;33m=\u001b[0m \u001b[0mccg_parser\u001b[0m\u001b[1;33m(\u001b[0m\u001b[1;33m)\u001b[0m\u001b[1;33m\u001b[0m\u001b[1;33m\u001b[0m\u001b[0m\n\u001b[0m\u001b[0;32m     98\u001b[0m             \u001b[1;32mif\u001b[0m \u001b[1;32mnot\u001b[0m \u001b[0misinstance\u001b[0m\u001b[1;33m(\u001b[0m\u001b[0mccg_parser\u001b[0m\u001b[1;33m,\u001b[0m \u001b[0mCCGParser\u001b[0m\u001b[1;33m)\u001b[0m\u001b[1;33m:\u001b[0m\u001b[1;33m\u001b[0m\u001b[1;33m\u001b[0m\u001b[0m\n\u001b[0;32m     99\u001b[0m                 raise ValueError(f'{ccg_parser} should be a CCGParser or a '\n",
      "\u001b[1;32m~\\AppData\\Roaming\\Python\\Python38\\site-packages\\lambeq\\text2diagram\\bobcat_parser.py\u001b[0m in \u001b[0;36m__init__\u001b[1;34m(self, model_name_or_path, root_cats, device, cache_dir, force_download, verbose, **kwargs)\u001b[0m\n\u001b[0;32m    279\u001b[0m \u001b[1;33m\u001b[0m\u001b[0m\n\u001b[0;32m    280\u001b[0m         \u001b[0mdevice_\u001b[0m \u001b[1;33m=\u001b[0m \u001b[0mtorch\u001b[0m\u001b[1;33m.\u001b[0m\u001b[0mdevice\u001b[0m\u001b[1;33m(\u001b[0m\u001b[1;34m'cpu'\u001b[0m \u001b[1;32mif\u001b[0m \u001b[0mdevice\u001b[0m \u001b[1;33m<\u001b[0m \u001b[1;36m0\u001b[0m \u001b[1;32melse\u001b[0m \u001b[1;34mf'cuda:{device}'\u001b[0m\u001b[1;33m)\u001b[0m\u001b[1;33m\u001b[0m\u001b[1;33m\u001b[0m\u001b[0m\n\u001b[1;32m--> 281\u001b[1;33m         model = (BertForChartClassification.from_pretrained(model_dir)\n\u001b[0m\u001b[0;32m    282\u001b[0m                                            \u001b[1;33m.\u001b[0m\u001b[0meval\u001b[0m\u001b[1;33m(\u001b[0m\u001b[1;33m)\u001b[0m\u001b[1;33m\u001b[0m\u001b[1;33m\u001b[0m\u001b[0m\n\u001b[0;32m    283\u001b[0m                                            .to(device_))\n",
      "\u001b[1;32m~\\AppData\\Roaming\\Python\\Python38\\site-packages\\transformers\\modeling_utils.py\u001b[0m in \u001b[0;36mfrom_pretrained\u001b[1;34m(cls, pretrained_model_name_or_path, *model_args, **kwargs)\u001b[0m\n\u001b[0;32m   2058\u001b[0m             \u001b[1;32mif\u001b[0m \u001b[1;32mnot\u001b[0m \u001b[0mis_sharded\u001b[0m \u001b[1;32mand\u001b[0m \u001b[0mstate_dict\u001b[0m \u001b[1;32mis\u001b[0m \u001b[1;32mNone\u001b[0m\u001b[1;33m:\u001b[0m\u001b[1;33m\u001b[0m\u001b[1;33m\u001b[0m\u001b[0m\n\u001b[0;32m   2059\u001b[0m                 \u001b[1;31m# Time to load the checkpoint\u001b[0m\u001b[1;33m\u001b[0m\u001b[1;33m\u001b[0m\u001b[1;33m\u001b[0m\u001b[0m\n\u001b[1;32m-> 2060\u001b[1;33m                 \u001b[0mstate_dict\u001b[0m \u001b[1;33m=\u001b[0m \u001b[0mload_state_dict\u001b[0m\u001b[1;33m(\u001b[0m\u001b[0mresolved_archive_file\u001b[0m\u001b[1;33m)\u001b[0m\u001b[1;33m\u001b[0m\u001b[1;33m\u001b[0m\u001b[0m\n\u001b[0m\u001b[0;32m   2061\u001b[0m \u001b[1;33m\u001b[0m\u001b[0m\n\u001b[0;32m   2062\u001b[0m             \u001b[1;31m# set dtype to instantiate the model under:\u001b[0m\u001b[1;33m\u001b[0m\u001b[1;33m\u001b[0m\u001b[1;33m\u001b[0m\u001b[0m\n",
      "\u001b[1;32m~\\AppData\\Roaming\\Python\\Python38\\site-packages\\transformers\\modeling_utils.py\u001b[0m in \u001b[0;36mload_state_dict\u001b[1;34m(checkpoint_file)\u001b[0m\n\u001b[0;32m    381\u001b[0m                     ) from e\n\u001b[0;32m    382\u001b[0m         \u001b[1;32mexcept\u001b[0m \u001b[1;33m(\u001b[0m\u001b[0mUnicodeDecodeError\u001b[0m\u001b[1;33m,\u001b[0m \u001b[0mValueError\u001b[0m\u001b[1;33m)\u001b[0m\u001b[1;33m:\u001b[0m\u001b[1;33m\u001b[0m\u001b[1;33m\u001b[0m\u001b[0m\n\u001b[1;32m--> 383\u001b[1;33m             raise OSError(\n\u001b[0m\u001b[0;32m    384\u001b[0m                 \u001b[1;34mf\"Unable to load weights from pytorch checkpoint file for '{checkpoint_file}' \"\u001b[0m\u001b[1;33m\u001b[0m\u001b[1;33m\u001b[0m\u001b[0m\n\u001b[0;32m    385\u001b[0m                 \u001b[1;34mf\"at '{checkpoint_file}'. \"\u001b[0m\u001b[1;33m\u001b[0m\u001b[1;33m\u001b[0m\u001b[0m\n",
      "\u001b[1;31mOSError\u001b[0m: Unable to load weights from pytorch checkpoint file for 'C:\\Users\\junli\\.cache\\lambeq\\bobcat\\bert\\pytorch_model.bin' at 'C:\\Users\\junli\\.cache\\lambeq\\bobcat\\bert\\pytorch_model.bin'. If you tried to load a PyTorch model from a TF 2.0 checkpoint, please set from_tf=True."
     ]
    }
   ],
   "source": [
    "reader = TreeReader(ccg_parser=BobcatParser, mode=TreeReaderMode.RULE_ONLY)\n",
    "reader.sentence2diagram(sentence).draw()"
   ]
  },
  {
   "cell_type": "code",
   "execution_count": 4,
   "id": "95735fd4",
   "metadata": {},
   "outputs": [
    {
     "ename": "OSError",
     "evalue": "Unable to load weights from pytorch checkpoint file for 'C:\\Users\\junli\\.cache\\lambeq\\bobcat\\bert\\pytorch_model.bin' at 'C:\\Users\\junli\\.cache\\lambeq\\bobcat\\bert\\pytorch_model.bin'. If you tried to load a PyTorch model from a TF 2.0 checkpoint, please set from_tf=True.",
     "output_type": "error",
     "traceback": [
      "\u001b[1;31m---------------------------------------------------------------------------\u001b[0m",
      "\u001b[1;31mRuntimeError\u001b[0m                              Traceback (most recent call last)",
      "\u001b[1;32m~\\AppData\\Roaming\\Python\\Python38\\site-packages\\transformers\\modeling_utils.py\u001b[0m in \u001b[0;36mload_state_dict\u001b[1;34m(checkpoint_file)\u001b[0m\n\u001b[0;32m    366\u001b[0m     \u001b[1;32mtry\u001b[0m\u001b[1;33m:\u001b[0m\u001b[1;33m\u001b[0m\u001b[1;33m\u001b[0m\u001b[0m\n\u001b[1;32m--> 367\u001b[1;33m         \u001b[1;32mreturn\u001b[0m \u001b[0mtorch\u001b[0m\u001b[1;33m.\u001b[0m\u001b[0mload\u001b[0m\u001b[1;33m(\u001b[0m\u001b[0mcheckpoint_file\u001b[0m\u001b[1;33m,\u001b[0m \u001b[0mmap_location\u001b[0m\u001b[1;33m=\u001b[0m\u001b[1;34m\"cpu\"\u001b[0m\u001b[1;33m)\u001b[0m\u001b[1;33m\u001b[0m\u001b[1;33m\u001b[0m\u001b[0m\n\u001b[0m\u001b[0;32m    368\u001b[0m     \u001b[1;32mexcept\u001b[0m \u001b[0mException\u001b[0m \u001b[1;32mas\u001b[0m \u001b[0me\u001b[0m\u001b[1;33m:\u001b[0m\u001b[1;33m\u001b[0m\u001b[1;33m\u001b[0m\u001b[0m\n",
      "\u001b[1;32m~\\anaconda3\\lib\\site-packages\\torch\\serialization.py\u001b[0m in \u001b[0;36mload\u001b[1;34m(f, map_location, pickle_module, **pickle_load_args)\u001b[0m\n\u001b[0;32m    526\u001b[0m \u001b[1;33m\u001b[0m\u001b[0m\n\u001b[1;32m--> 527\u001b[1;33m \u001b[1;33m\u001b[0m\u001b[0m\n\u001b[0m\u001b[0;32m    528\u001b[0m \u001b[1;32mdef\u001b[0m \u001b[0m_save\u001b[0m\u001b[1;33m(\u001b[0m\u001b[0mobj\u001b[0m\u001b[1;33m,\u001b[0m \u001b[0mzip_file\u001b[0m\u001b[1;33m,\u001b[0m \u001b[0mpickle_module\u001b[0m\u001b[1;33m,\u001b[0m \u001b[0mpickle_protocol\u001b[0m\u001b[1;33m)\u001b[0m\u001b[1;33m:\u001b[0m\u001b[1;33m\u001b[0m\u001b[1;33m\u001b[0m\u001b[0m\n",
      "\u001b[1;32m~\\anaconda3\\lib\\site-packages\\torch\\serialization.py\u001b[0m in \u001b[0;36m__init__\u001b[1;34m(self, name_or_buffer)\u001b[0m\n\u001b[0;32m    223\u001b[0m \u001b[1;32mclass\u001b[0m \u001b[0m_open_buffer_writer\u001b[0m\u001b[1;33m(\u001b[0m\u001b[0m_opener\u001b[0m\u001b[1;33m)\u001b[0m\u001b[1;33m:\u001b[0m\u001b[1;33m\u001b[0m\u001b[1;33m\u001b[0m\u001b[0m\n\u001b[1;32m--> 224\u001b[1;33m     \u001b[1;32mdef\u001b[0m \u001b[0m__exit__\u001b[0m\u001b[1;33m(\u001b[0m\u001b[0mself\u001b[0m\u001b[1;33m,\u001b[0m \u001b[1;33m*\u001b[0m\u001b[0margs\u001b[0m\u001b[1;33m)\u001b[0m\u001b[1;33m:\u001b[0m\u001b[1;33m\u001b[0m\u001b[1;33m\u001b[0m\u001b[0m\n\u001b[0m\u001b[0;32m    225\u001b[0m         \u001b[0mself\u001b[0m\u001b[1;33m.\u001b[0m\u001b[0mfile_like\u001b[0m\u001b[1;33m.\u001b[0m\u001b[0mflush\u001b[0m\u001b[1;33m(\u001b[0m\u001b[1;33m)\u001b[0m\u001b[1;33m\u001b[0m\u001b[1;33m\u001b[0m\u001b[0m\n",
      "\u001b[1;31mRuntimeError\u001b[0m: version_ <= kMaxSupportedFileFormatVersion INTERNAL ASSERT FAILED at ..\\caffe2\\serialize\\inline_container.cc:132, please report a bug to PyTorch. Attempted to read a PyTorch file with version 3, but the maximum supported version for reading is 2. Your PyTorch installation may be too old. (init at ..\\caffe2\\serialize\\inline_container.cc:132)\n(no backtrace available)",
      "\nDuring handling of the above exception, another exception occurred:\n",
      "\u001b[1;31mUnicodeDecodeError\u001b[0m                        Traceback (most recent call last)",
      "\u001b[1;32m~\\AppData\\Roaming\\Python\\Python38\\site-packages\\transformers\\modeling_utils.py\u001b[0m in \u001b[0;36mload_state_dict\u001b[1;34m(checkpoint_file)\u001b[0m\n\u001b[0;32m    370\u001b[0m             \u001b[1;32mwith\u001b[0m \u001b[0mopen\u001b[0m\u001b[1;33m(\u001b[0m\u001b[0mcheckpoint_file\u001b[0m\u001b[1;33m)\u001b[0m \u001b[1;32mas\u001b[0m \u001b[0mf\u001b[0m\u001b[1;33m:\u001b[0m\u001b[1;33m\u001b[0m\u001b[1;33m\u001b[0m\u001b[0m\n\u001b[1;32m--> 371\u001b[1;33m                 \u001b[1;32mif\u001b[0m \u001b[0mf\u001b[0m\u001b[1;33m.\u001b[0m\u001b[0mread\u001b[0m\u001b[1;33m(\u001b[0m\u001b[1;33m)\u001b[0m\u001b[1;33m.\u001b[0m\u001b[0mstartswith\u001b[0m\u001b[1;33m(\u001b[0m\u001b[1;34m\"version\"\u001b[0m\u001b[1;33m)\u001b[0m\u001b[1;33m:\u001b[0m\u001b[1;33m\u001b[0m\u001b[1;33m\u001b[0m\u001b[0m\n\u001b[0m\u001b[0;32m    372\u001b[0m                     raise OSError(\n",
      "\u001b[1;32m~\\anaconda3\\lib\\encodings\\cp1252.py\u001b[0m in \u001b[0;36mdecode\u001b[1;34m(self, input, final)\u001b[0m\n\u001b[0;32m     22\u001b[0m     \u001b[1;32mdef\u001b[0m \u001b[0mdecode\u001b[0m\u001b[1;33m(\u001b[0m\u001b[0mself\u001b[0m\u001b[1;33m,\u001b[0m \u001b[0minput\u001b[0m\u001b[1;33m,\u001b[0m \u001b[0mfinal\u001b[0m\u001b[1;33m=\u001b[0m\u001b[1;32mFalse\u001b[0m\u001b[1;33m)\u001b[0m\u001b[1;33m:\u001b[0m\u001b[1;33m\u001b[0m\u001b[1;33m\u001b[0m\u001b[0m\n\u001b[1;32m---> 23\u001b[1;33m         \u001b[1;32mreturn\u001b[0m \u001b[0mcodecs\u001b[0m\u001b[1;33m.\u001b[0m\u001b[0mcharmap_decode\u001b[0m\u001b[1;33m(\u001b[0m\u001b[0minput\u001b[0m\u001b[1;33m,\u001b[0m\u001b[0mself\u001b[0m\u001b[1;33m.\u001b[0m\u001b[0merrors\u001b[0m\u001b[1;33m,\u001b[0m\u001b[0mdecoding_table\u001b[0m\u001b[1;33m)\u001b[0m\u001b[1;33m[\u001b[0m\u001b[1;36m0\u001b[0m\u001b[1;33m]\u001b[0m\u001b[1;33m\u001b[0m\u001b[1;33m\u001b[0m\u001b[0m\n\u001b[0m\u001b[0;32m     24\u001b[0m \u001b[1;33m\u001b[0m\u001b[0m\n",
      "\u001b[1;31mUnicodeDecodeError\u001b[0m: 'charmap' codec can't decode byte 0x81 in position 1793: character maps to <undefined>",
      "\nDuring handling of the above exception, another exception occurred:\n",
      "\u001b[1;31mOSError\u001b[0m                                   Traceback (most recent call last)",
      "\u001b[1;32m~\\AppData\\Local\\Temp\\ipykernel_5560\\3554362231.py\u001b[0m in \u001b[0;36m<cell line: 1>\u001b[1;34m()\u001b[0m\n\u001b[1;32m----> 1\u001b[1;33m \u001b[0mreader\u001b[0m \u001b[1;33m=\u001b[0m \u001b[0mTreeReader\u001b[0m\u001b[1;33m(\u001b[0m\u001b[0mccg_parser\u001b[0m\u001b[1;33m=\u001b[0m\u001b[0mBobcatParser\u001b[0m\u001b[1;33m,\u001b[0m \u001b[0mmode\u001b[0m\u001b[1;33m=\u001b[0m\u001b[0mTreeReaderMode\u001b[0m\u001b[1;33m.\u001b[0m\u001b[0mRULE_TYPE\u001b[0m\u001b[1;33m)\u001b[0m\u001b[1;33m\u001b[0m\u001b[1;33m\u001b[0m\u001b[0m\n\u001b[0m\u001b[0;32m      2\u001b[0m \u001b[0mreader\u001b[0m\u001b[1;33m.\u001b[0m\u001b[0msentence2diagram\u001b[0m\u001b[1;33m(\u001b[0m\u001b[0msentence\u001b[0m\u001b[1;33m)\u001b[0m\u001b[1;33m.\u001b[0m\u001b[0mdraw\u001b[0m\u001b[1;33m(\u001b[0m\u001b[1;33m)\u001b[0m\u001b[1;33m\u001b[0m\u001b[1;33m\u001b[0m\u001b[0m\n",
      "\u001b[1;32m~\\AppData\\Roaming\\Python\\Python38\\site-packages\\lambeq\\text2diagram\\tree_reader.py\u001b[0m in \u001b[0;36m__init__\u001b[1;34m(self, ccg_parser, mode, word_type, suppress_exceptions)\u001b[0m\n\u001b[0;32m     95\u001b[0m                 raise ValueError(f'{ccg_parser} should be a CCGParser or a '\n\u001b[0;32m     96\u001b[0m                                  'function that returns a CCGParser.')\n\u001b[1;32m---> 97\u001b[1;33m             \u001b[0mccg_parser\u001b[0m \u001b[1;33m=\u001b[0m \u001b[0mccg_parser\u001b[0m\u001b[1;33m(\u001b[0m\u001b[1;33m)\u001b[0m\u001b[1;33m\u001b[0m\u001b[1;33m\u001b[0m\u001b[0m\n\u001b[0m\u001b[0;32m     98\u001b[0m             \u001b[1;32mif\u001b[0m \u001b[1;32mnot\u001b[0m \u001b[0misinstance\u001b[0m\u001b[1;33m(\u001b[0m\u001b[0mccg_parser\u001b[0m\u001b[1;33m,\u001b[0m \u001b[0mCCGParser\u001b[0m\u001b[1;33m)\u001b[0m\u001b[1;33m:\u001b[0m\u001b[1;33m\u001b[0m\u001b[1;33m\u001b[0m\u001b[0m\n\u001b[0;32m     99\u001b[0m                 raise ValueError(f'{ccg_parser} should be a CCGParser or a '\n",
      "\u001b[1;32m~\\AppData\\Roaming\\Python\\Python38\\site-packages\\lambeq\\text2diagram\\bobcat_parser.py\u001b[0m in \u001b[0;36m__init__\u001b[1;34m(self, model_name_or_path, root_cats, device, cache_dir, force_download, verbose, **kwargs)\u001b[0m\n\u001b[0;32m    279\u001b[0m \u001b[1;33m\u001b[0m\u001b[0m\n\u001b[0;32m    280\u001b[0m         \u001b[0mdevice_\u001b[0m \u001b[1;33m=\u001b[0m \u001b[0mtorch\u001b[0m\u001b[1;33m.\u001b[0m\u001b[0mdevice\u001b[0m\u001b[1;33m(\u001b[0m\u001b[1;34m'cpu'\u001b[0m \u001b[1;32mif\u001b[0m \u001b[0mdevice\u001b[0m \u001b[1;33m<\u001b[0m \u001b[1;36m0\u001b[0m \u001b[1;32melse\u001b[0m \u001b[1;34mf'cuda:{device}'\u001b[0m\u001b[1;33m)\u001b[0m\u001b[1;33m\u001b[0m\u001b[1;33m\u001b[0m\u001b[0m\n\u001b[1;32m--> 281\u001b[1;33m         model = (BertForChartClassification.from_pretrained(model_dir)\n\u001b[0m\u001b[0;32m    282\u001b[0m                                            \u001b[1;33m.\u001b[0m\u001b[0meval\u001b[0m\u001b[1;33m(\u001b[0m\u001b[1;33m)\u001b[0m\u001b[1;33m\u001b[0m\u001b[1;33m\u001b[0m\u001b[0m\n\u001b[0;32m    283\u001b[0m                                            .to(device_))\n",
      "\u001b[1;32m~\\AppData\\Roaming\\Python\\Python38\\site-packages\\transformers\\modeling_utils.py\u001b[0m in \u001b[0;36mfrom_pretrained\u001b[1;34m(cls, pretrained_model_name_or_path, *model_args, **kwargs)\u001b[0m\n\u001b[0;32m   2058\u001b[0m             \u001b[1;32mif\u001b[0m \u001b[1;32mnot\u001b[0m \u001b[0mis_sharded\u001b[0m \u001b[1;32mand\u001b[0m \u001b[0mstate_dict\u001b[0m \u001b[1;32mis\u001b[0m \u001b[1;32mNone\u001b[0m\u001b[1;33m:\u001b[0m\u001b[1;33m\u001b[0m\u001b[1;33m\u001b[0m\u001b[0m\n\u001b[0;32m   2059\u001b[0m                 \u001b[1;31m# Time to load the checkpoint\u001b[0m\u001b[1;33m\u001b[0m\u001b[1;33m\u001b[0m\u001b[1;33m\u001b[0m\u001b[0m\n\u001b[1;32m-> 2060\u001b[1;33m                 \u001b[0mstate_dict\u001b[0m \u001b[1;33m=\u001b[0m \u001b[0mload_state_dict\u001b[0m\u001b[1;33m(\u001b[0m\u001b[0mresolved_archive_file\u001b[0m\u001b[1;33m)\u001b[0m\u001b[1;33m\u001b[0m\u001b[1;33m\u001b[0m\u001b[0m\n\u001b[0m\u001b[0;32m   2061\u001b[0m \u001b[1;33m\u001b[0m\u001b[0m\n\u001b[0;32m   2062\u001b[0m             \u001b[1;31m# set dtype to instantiate the model under:\u001b[0m\u001b[1;33m\u001b[0m\u001b[1;33m\u001b[0m\u001b[1;33m\u001b[0m\u001b[0m\n",
      "\u001b[1;32m~\\AppData\\Roaming\\Python\\Python38\\site-packages\\transformers\\modeling_utils.py\u001b[0m in \u001b[0;36mload_state_dict\u001b[1;34m(checkpoint_file)\u001b[0m\n\u001b[0;32m    381\u001b[0m                     ) from e\n\u001b[0;32m    382\u001b[0m         \u001b[1;32mexcept\u001b[0m \u001b[1;33m(\u001b[0m\u001b[0mUnicodeDecodeError\u001b[0m\u001b[1;33m,\u001b[0m \u001b[0mValueError\u001b[0m\u001b[1;33m)\u001b[0m\u001b[1;33m:\u001b[0m\u001b[1;33m\u001b[0m\u001b[1;33m\u001b[0m\u001b[0m\n\u001b[1;32m--> 383\u001b[1;33m             raise OSError(\n\u001b[0m\u001b[0;32m    384\u001b[0m                 \u001b[1;34mf\"Unable to load weights from pytorch checkpoint file for '{checkpoint_file}' \"\u001b[0m\u001b[1;33m\u001b[0m\u001b[1;33m\u001b[0m\u001b[0m\n\u001b[0;32m    385\u001b[0m                 \u001b[1;34mf\"at '{checkpoint_file}'. \"\u001b[0m\u001b[1;33m\u001b[0m\u001b[1;33m\u001b[0m\u001b[0m\n",
      "\u001b[1;31mOSError\u001b[0m: Unable to load weights from pytorch checkpoint file for 'C:\\Users\\junli\\.cache\\lambeq\\bobcat\\bert\\pytorch_model.bin' at 'C:\\Users\\junli\\.cache\\lambeq\\bobcat\\bert\\pytorch_model.bin'. If you tried to load a PyTorch model from a TF 2.0 checkpoint, please set from_tf=True."
     ]
    }
   ],
   "source": [
    "reader = TreeReader(ccg_parser=BobcatParser, mode=TreeReaderMode.RULE_TYPE)\n",
    "reader.sentence2diagram(sentence).draw()"
   ]
  },
  {
   "cell_type": "code",
   "execution_count": null,
   "id": "990dc241",
   "metadata": {},
   "outputs": [],
   "source": [
    "from discopy.quantum import circuit, qubit, sqrt, X\n",
    "\n",
    "F_ = circuit.Functor(\n",
    "    ob={s: Ty(), n: qubit},\n",
    "    ar={Alice: Ket(0),\n",
    "        loves: sqrt(2) @ Ket(0, 0) >> H @ X >> CX,\n",
    "        Bob: Ket(1)})\n",
    "\n",
    "F_(sentence).draw(figsize=(6, 6))\n",
    "\n",
    "assert F_(sentence).eval() == F(sentence)"
   ]
  }
 ],
 "metadata": {
  "kernelspec": {
   "display_name": "womanium",
   "language": "python",
   "name": "womanium"
  },
  "language_info": {
   "codemirror_mode": {
    "name": "ipython",
    "version": 3
   },
   "file_extension": ".py",
   "mimetype": "text/x-python",
   "name": "python",
   "nbconvert_exporter": "python",
   "pygments_lexer": "ipython3",
   "version": "3.10.4"
  },
  "latex_envs": {
   "LaTeX_envs_menu_present": true,
   "autoclose": false,
   "autocomplete": true,
   "bibliofile": "biblio.bib",
   "cite_by": "apalike",
   "current_citInitial": 1,
   "eqLabelWithNumbers": true,
   "eqNumInitial": 1,
   "hotkeys": {
    "equation": "Ctrl-E",
    "itemize": "Ctrl-I"
   },
   "labels_anchors": false,
   "latex_user_defs": false,
   "report_style_numbering": false,
   "user_envs_cfg": false
  },
  "toc": {
   "base_numbering": 1,
   "nav_menu": {},
   "number_sections": true,
   "sideBar": true,
   "skip_h1_title": false,
   "title_cell": "Table of Contents",
   "title_sidebar": "Contents",
   "toc_cell": false,
   "toc_position": {},
   "toc_section_display": true,
   "toc_window_display": false
  }
 },
 "nbformat": 4,
 "nbformat_minor": 5
}
