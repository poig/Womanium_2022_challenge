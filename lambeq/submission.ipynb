{
 "cells": [
  {
   "cell_type": "markdown",
   "id": "b615f15d-a136-4a21-8a52-9d06021f8c37",
   "metadata": {},
   "source": [
    "## natural language experiments on a quantum computer.\n",
    "### Goal-\n",
    "submit a short report where you include the following:\n",
    "- A short discussion explaining any design choices in the model, e.g. choice of loss\n",
    "function, use of regularisation or not and so on.  \n",
    "- A short discussion on the results.  \n",
    "- Optimisation plots showing the convergence of the model.  \n",
    "### Possible Extensions-\n",
    "- Diagrammatic rewriting\n",
    "- Different ansatze\n",
    "- Implement a new reader\n",
    "- Implement a rewrite rule"
   ]
  },
  {
   "cell_type": "markdown",
   "id": "4b8df8ed-ab59-4d8c-980a-4525aa34a488",
   "metadata": {},
   "source": [
    "touching field: (direction)\n",
    "- quantum mechanics\n",
    "- pure math and particular category theory\n",
    "- linguistics \n",
    "- artifical intelligence"
   ]
  },
  {
   "cell_type": "code",
   "execution_count": 1,
   "id": "141a1b7f-7bbe-4812-bee1-431d8e93f72f",
   "metadata": {},
   "outputs": [],
   "source": [
    "import warnings\n",
    "warnings.filterwarnings('ignore')  # Ignore warnings\n",
    "\n",
    "from discopy.tensor import Tensor\n",
    "from jax import numpy as np\n",
    "import numpy\n",
    "\n",
    "np.random = numpy.random\n",
    "Tensor.np = np\n",
    "\n",
    "np.random.seed(123458)  # Fix the seed"
   ]
  },
  {
   "cell_type": "code",
   "execution_count": null,
   "id": "f57ec6ac-7349-4b14-9d9c-5893a43089d1",
   "metadata": {},
   "outputs": [],
   "source": []
  }
 ],
 "metadata": {
  "kernelspec": {
   "display_name": "womanium",
   "language": "python",
   "name": "womanium"
  },
  "language_info": {
   "codemirror_mode": {
    "name": "ipython",
    "version": 3
   },
   "file_extension": ".py",
   "mimetype": "text/x-python",
   "name": "python",
   "nbconvert_exporter": "python",
   "pygments_lexer": "ipython3",
   "version": "3.10.4"
  }
 },
 "nbformat": 4,
 "nbformat_minor": 5
}
