{
 "cells": [
  {
   "cell_type": "code",
   "execution_count": 2,
   "metadata": {},
   "outputs": [],
   "source": [
    "import warnings\n",
    "warnings.filterwarnings('ignore')  # Ignore warnings\n",
    "\n",
    "from discopy.tensor import Tensor\n",
    "from jax import numpy as np\n",
    "import numpy\n",
    "\n",
    "np.random = numpy.random\n",
    "Tensor.np = np\n",
    "\n",
    "np.random.seed(123458)  # Fix the seed"
   ]
  },
  {
   "cell_type": "code",
   "execution_count": 7,
   "metadata": {},
   "outputs": [
    {
     "data": {
      "text/plain": [
       "<module 'os' from '/home/poig/miniconda3/envs/womanium/lib/python3.10/os.py'>"
      ]
     },
     "execution_count": 7,
     "metadata": {},
     "output_type": "execute_result"
    }
   ],
   "source": [
    "import os\n",
    "os"
   ]
  },
  {
   "cell_type": "code",
   "execution_count": 11,
   "metadata": {},
   "outputs": [
    {
     "name": "stderr",
     "output_type": "stream",
     "text": [
      "WARNING:absl:No GPU/TPU found, falling back to CPU. (Set TF_CPP_MIN_LOG_LEVEL=0 and rerun for more info.)\n"
     ]
    }
   ],
   "source": [
    "# Read data\n",
    "def read_data(fname):\n",
    "    with open(fname, 'r') as f:\n",
    "        lines = f.readlines()\n",
    "    data, targets = [], []\n",
    "    for ln in lines:\n",
    "        t = int(ln[0])\n",
    "        data.append(ln[1:].strip())\n",
    "        targets.append(np.array([t, not(t)], dtype=np.float32))\n",
    "    return data, np.array(targets)\n",
    "\n",
    "train_data, train_targets = read_data('examples/datasets/mc_train_data.txt')\n",
    "test_data, test_targets = read_data('examples/datasets/mc_test_data.txt')"
   ]
  },
  {
   "cell_type": "code",
   "execution_count": 12,
   "metadata": {},
   "outputs": [
    {
     "data": {
      "text/plain": [
       "['skillful man prepares sauce .',\n",
       " 'skillful man bakes dinner .',\n",
       " 'woman cooks tasty meal .',\n",
       " 'man prepares meal .',\n",
       " 'skillful woman debugs program .',\n",
       " 'woman prepares tasty meal .',\n",
       " 'person runs program .',\n",
       " 'person runs useful application .',\n",
       " 'woman prepares sauce .',\n",
       " 'woman prepares dinner .']"
      ]
     },
     "execution_count": 12,
     "metadata": {},
     "output_type": "execute_result"
    }
   ],
   "source": [
    "train_data[:10]"
   ]
  },
  {
   "cell_type": "code",
   "execution_count": 13,
   "metadata": {},
   "outputs": [
    {
     "data": {
      "text/plain": [
       "DeviceArray([[1., 0.],\n",
       "             [1., 0.],\n",
       "             [1., 0.],\n",
       "             ...,\n",
       "             [0., 1.],\n",
       "             [1., 0.],\n",
       "             [0., 1.]], dtype=float32)"
      ]
     },
     "execution_count": 13,
     "metadata": {},
     "output_type": "execute_result"
    }
   ],
   "source": [
    "train_targets"
   ]
  },
  {
   "cell_type": "code",
   "execution_count": 14,
   "metadata": {},
   "outputs": [
    {
     "data": {
      "image/png": "[encoded data removed]",
      "text/plain": [
       "<Figure size 576x288 with 1 Axes>"
      ]
     },
     "metadata": {},
     "output_type": "display_data"
    }
   ],
   "source": [
    "# Parse sentences to diagrams\n",
    "\n",
    "from lambeq import BobcatParser\n",
    "\n",
    "parser = BobcatParser(verbose='suppress')\n",
    "train_diagrams = parser.sentences2diagrams(train_data)\n",
    "test_diagrams = parser.sentences2diagrams(test_data)\n",
    "\n",
    "train_diagrams[0].draw(figsize=(8,4), fontsize=13)"
   ]
  },
  {
   "cell_type": "code",
   "execution_count": 15,
   "metadata": {},
   "outputs": [
    {
     "data": {
      "image/png": "[encoded data removed]",
      "text/plain": [
       "<Figure size 576x288 with 1 Axes>"
      ]
     },
     "metadata": {},
     "output_type": "display_data"
    }
   ],
   "source": [
    "# Create ansatz and convert to tensor diagrams\n",
    "\n",
    "from lambeq import AtomicType, SpiderAnsatz\n",
    "from discopy import Dim\n",
    "\n",
    "N = AtomicType.NOUN\n",
    "S = AtomicType.SENTENCE\n",
    "\n",
    "# Create an ansatz by assigning 2 dimensions to both\n",
    "# noun and sentence spaces\n",
    "ansatz = SpiderAnsatz({N: Dim(2), S: Dim(2)})\n",
    "\n",
    "train_circuits = [ansatz(d) for d in train_diagrams]\n",
    "test_circuits = [ansatz(d) for d in test_diagrams]\n",
    "\n",
    "all_circuits = train_circuits + test_circuits\n",
    "\n",
    "all_circuits[0].draw(figsize=(8,4), fontsize=13)"
   ]
  },
  {
   "cell_type": "code",
   "execution_count": 16,
   "metadata": {},
   "outputs": [
    {
     "data": {
      "text/plain": [
       "array([0.17825215, 0.02690565])"
      ]
     },
     "execution_count": 16,
     "metadata": {},
     "output_type": "execute_result"
    }
   ],
   "source": [
    "# Create vocabulary\n",
    "\n",
    "from sympy import default_sort_key\n",
    "\n",
    "vocab = sorted(\n",
    "   {sym for circ in all_circuits for sym in circ.free_symbols},\n",
    "    key=default_sort_key\n",
    ")\n",
    "tensors = [np.random.rand(w.size) for w in vocab]\n",
    "\n",
    "tensors[0]"
   ]
  },
  {
   "cell_type": "code",
   "execution_count": 17,
   "metadata": {},
   "outputs": [],
   "source": [
    "def sigmoid(x):\n",
    "    return 1 / (1 + np.exp(-x))\n",
    "\n",
    "def loss(tensors):\n",
    "    # Lambdify\n",
    "    np_circuits = [c.lambdify(*vocab)(*tensors) for c in train_circuits]\n",
    "    # Compute predictions\n",
    "    predictions =  sigmoid(np.array([c.eval().array for c in np_circuits]))\n",
    "\n",
    "    # binary cross-entropy loss\n",
    "    cost = -np.sum(train_targets * np.log2(predictions)) / len(train_targets)\n",
    "    return cost"
   ]
  },
  {
   "cell_type": "code",
   "execution_count": 18,
   "metadata": {},
   "outputs": [],
   "source": [
    "from jax import jit, grad\n",
    "\n",
    "training_loss = jit(loss)\n",
    "gradient = jit(grad(loss))"
   ]
  },
  {
   "cell_type": "code",
   "execution_count": 19,
   "metadata": {},
   "outputs": [
    {
     "name": "stdout",
     "output_type": "stream",
     "text": [
      "Epoch 10 - loss 0.18159328401088715\n",
      "Epoch 20 - loss 0.028411220759153366\n",
      "Epoch 30 - loss 0.014218387193977833\n",
      "Epoch 40 - loss 0.009306452237069607\n",
      "Epoch 50 - loss 0.006690497510135174\n",
      "Epoch 60 - loss 0.0050796098075807095\n",
      "Epoch 70 - loss 0.004009702242910862\n",
      "Epoch 80 - loss 0.003261777339503169\n",
      "Epoch 90 - loss 0.0027179380413144827\n"
     ]
    }
   ],
   "source": [
    "training_losses = []\n",
    "\n",
    "epochs = 90\n",
    "\n",
    "for i in range(epochs):\n",
    "\n",
    "    gr = gradient(tensors)\n",
    "    for k in range(len(tensors)):\n",
    "        tensors[k] = tensors[k] - gr[k] * 1.0\n",
    "\n",
    "    training_losses.append(float(training_loss(tensors)))\n",
    "\n",
    "    if (i + 1) % 10 == 0:\n",
    "        print(f\"Epoch {i + 1} - loss {training_losses[-1]}\")"
   ]
  },
  {
   "cell_type": "code",
   "execution_count": 20,
   "metadata": {},
   "outputs": [
    {
     "name": "stdout",
     "output_type": "stream",
     "text": [
      "Accuracy on test set: 0.9\n"
     ]
    }
   ],
   "source": [
    "# Testing\n",
    "\n",
    "np_test_circuits = [c.lambdify(*vocab)(*tensors) for c in test_circuits]\n",
    "test_predictions =  sigmoid(np.array([c.eval().array for c in np_test_circuits]))\n",
    "\n",
    "hits = 0\n",
    "for i in range(len(np_test_circuits)):\n",
    "    target = test_targets[i]\n",
    "    pred = test_predictions[i]\n",
    "    if np.argmax(target) == np.argmax(pred):\n",
    "        hits += 1\n",
    "\n",
    "print(\"Accuracy on test set:\", hits / len(np_test_circuits))"
   ]
  },
  {
   "cell_type": "code",
   "execution_count": 1,
   "metadata": {},
   "outputs": [
    {
     "ename": "NameError",
     "evalue": "name 'test_targets' is not defined",
     "output_type": "error",
     "traceback": [
      "\u001b[0;31m---------------------------------------------------------------------------\u001b[0m",
      "\u001b[0;31mNameError\u001b[0m                                 Traceback (most recent call last)",
      "Input \u001b[0;32mIn [1]\u001b[0m, in \u001b[0;36m<cell line: 1>\u001b[0;34m()\u001b[0m\n\u001b[0;32m----> 1\u001b[0m \u001b[43mtest_targets\u001b[49m[\u001b[38;5;241m1\u001b[39m]\n",
      "\u001b[0;31mNameError\u001b[0m: name 'test_targets' is not defined"
     ]
    }
   ],
   "source": [
    "test_targets[1]"
   ]
  },
  {
   "cell_type": "code",
   "execution_count": null,
   "metadata": {},
   "outputs": [],
   "source": [
    "test_predictions[1]"
   ]
  },
  {
   "cell_type": "code",
   "execution_count": null,
   "metadata": {},
   "outputs": [],
   "source": []
  }
 ],
 "metadata": {
  "kernelspec": {
   "display_name": "womanium",
   "language": "python",
   "name": "womanium"
  },
  "language_info": {
   "codemirror_mode": {
    "name": "ipython",
    "version": 3
   },
   "file_extension": ".py",
   "mimetype": "text/x-python",
   "name": "python",
   "nbconvert_exporter": "python",
   "pygments_lexer": "ipython3",
   "version": "3.10.4"
  },
  "latex_envs": {
   "LaTeX_envs_menu_present": true,
   "autoclose": false,
   "autocomplete": true,
   "bibliofile": "biblio.bib",
   "cite_by": "apalike",
   "current_citInitial": 1,
   "eqLabelWithNumbers": true,
   "eqNumInitial": 1,
   "hotkeys": {
    "equation": "Ctrl-E",
    "itemize": "Ctrl-I"
   },
   "labels_anchors": false,
   "latex_user_defs": false,
   "report_style_numbering": false,
   "user_envs_cfg": false
  },
  "toc": {
   "base_numbering": 1,
   "nav_menu": {},
   "number_sections": true,
   "sideBar": true,
   "skip_h1_title": false,
   "title_cell": "Table of Contents",
   "title_sidebar": "Contents",
   "toc_cell": false,
   "toc_position": {},
   "toc_section_display": true,
   "toc_window_display": false
  },
  "vscode": {
   "interpreter": {
    "hash": "31ef2d9bb61e881962054f6d840440c7431be86e4ca2e8c2f7ec29b8b56a99eb"
   }
  }
 },
 "nbformat": 4,
 "nbformat_minor": 4
}
