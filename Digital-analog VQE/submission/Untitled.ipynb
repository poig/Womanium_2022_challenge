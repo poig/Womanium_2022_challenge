{
 "cells": [
  {
   "cell_type": "markdown",
   "id": "5d945d64-1666-4ced-a3bd-0d8eb540a72e",
   "metadata": {},
   "source": [
    "## Digital-analog Variational Quantum Eigensolver\n",
    "#### goal: develop a new VQE ansatz based on the digital-analog quantum computing (DAQC) framework(for hardware efficient)\n",
    "- working implementation for a DAQC VQE and if you have it applied to one example use-case(40%)\n",
    "- compared the DAQC approach to a solely digital quantum computing approach by answering at least 2 questions(20%)\n",
    "- communicate your idea and analysis in an understandable way, like:\n",
    "  - Jupyter notebook, explanations in the code(20%)\n",
    "  - by establishing links to existing theory and presentation should be engaging and insightful(20%)"
   ]
  },
  {
   "cell_type": "markdown",
   "id": "53e24c81-3439-46d8-8a9d-36f3c6a3f51a",
   "metadata": {},
   "source": [
    "ideas for experimentation after DAQC VQE:\n",
    "Three-body: \n",
    "$$H_{analog} = \\sum_j^N{\\overline{g}{j,j+1}Z_j Z{j+1}} + \\sum_j^N{\\overline{g}{j,j+1,j+2}Z_j Z{j+1}}Z_{j+2}$$\n"
   ]
  },
  {
   "cell_type": "markdown",
   "id": "eb841a03-c601-47b4-a00b-e6a1a46c72ac",
   "metadata": {},
   "source": [
    "good seminar explain near-term QC:https://youtu.be/I6_tHLAeBsI"
   ]
  },
  {
   "cell_type": "code",
   "execution_count": null,
   "id": "f232e1f7-9eb1-46a2-80a2-e416e0f39f2a",
   "metadata": {},
   "outputs": [],
   "source": []
  },
  {
   "cell_type": "code",
   "execution_count": null,
   "id": "6dfc6f06-de49-4d3b-b799-6fbec138f37f",
   "metadata": {},
   "outputs": [],
   "source": []
  }
 ],
 "metadata": {
  "kernelspec": {
   "display_name": "womanium",
   "language": "python",
   "name": "womanium"
  },
  "language_info": {
   "codemirror_mode": {
    "name": "ipython",
    "version": 3
   },
   "file_extension": ".py",
   "mimetype": "text/x-python",
   "name": "python",
   "nbconvert_exporter": "python",
   "pygments_lexer": "ipython3",
   "version": "3.10.4"
  }
 },
 "nbformat": 4,
 "nbformat_minor": 5
}
