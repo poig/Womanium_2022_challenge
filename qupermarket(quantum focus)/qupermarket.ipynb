{
 "cells": [
  {
   "cell_type": "code",
   "execution_count": 1,
   "id": "b7519a2c",
   "metadata": {},
   "outputs": [],
   "source": [
    "#import netCDF4 # import libraries\n",
    "#from mpl_toolkits.basemap import Basemap\n",
    "#from matplotlib.collections import LineCollection\n",
    "#import matplotlib.pyplot as plt\n",
    "#from matplotlib.colors import BoundaryNorm\n",
    "#from matplotlib.ticker import MaxNLocator\n",
    "#import numpy as np\n",
    "#import pandas as pd\n",
    "#import copy\n",
    "#import sys\n",
    "#import xarray as xr\n",
    "#import seaborn as sns\n",
    "#import sympy as sp\n",
    "#import traceback\n",
    "#import math\n",
    "#import networkx as nx\n",
    "#import itertools\n",
    "#from itertools import product \n",
    "#from qiskit.quantum_info import Statevector\n",
    "#from importlib import reload\n",
    "##import utils.utils as ut\n",
    "#import matplotlib.ticker as ticker\n",
    "##import sklearn.preprocessing import StandardScaler\n",
    "#\n",
    "#RANDOM_SEED = 42\n",
    "#np.random.seed(RANDOM_SEED)\n",
    "##torch.manual_seed(RANDOM_SEED)"
   ]
  },
  {
   "cell_type": "code",
   "execution_count": 2,
   "id": "0bb12e7c",
   "metadata": {},
   "outputs": [],
   "source": [
    "#import numpy as np\n",
    "#from qiskit import Aer, IBMQ\n",
    "#from qiskit.utils import QuantumInstance\n",
    "#from qiskit.circuit import QuantumCircuit, ParameterVector\n",
    "#from qiskit.opflow import StateFn, Z, I, CircuitSampler, Gradient, Hessian\n",
    "#from qiskit.algorithms.optimizers import GradientDescent"
   ]
  },
  {
   "cell_type": "markdown",
   "id": "52f16a02",
   "metadata": {},
   "source": [
    "### sort general_data provided"
   ]
  },
  {
   "cell_type": "code",
   "execution_count": 1,
   "id": "189160bf-ee38-4df5-bdd8-db2793cb5358",
   "metadata": {},
   "outputs": [],
   "source": [
    "import pandas as pd"
   ]
  },
  {
   "cell_type": "code",
   "execution_count": 2,
   "id": "758fd01e",
   "metadata": {},
   "outputs": [
    {
     "data": {
      "text/html": [
       "<div>\n",
       "<style scoped>\n",
       "    .dataframe tbody tr th:only-of-type {\n",
       "        vertical-align: middle;\n",
       "    }\n",
       "\n",
       "    .dataframe tbody tr th {\n",
       "        vertical-align: top;\n",
       "    }\n",
       "\n",
       "    .dataframe thead th {\n",
       "        text-align: right;\n",
       "    }\n",
       "</style>\n",
       "<table border=\"1\" class=\"dataframe\">\n",
       "  <thead>\n",
       "    <tr style=\"text-align: right;\">\n",
       "      <th></th>\n",
       "      <th>Qupermarket</th>\n",
       "      <th>Unnamed: 1</th>\n",
       "      <th>Unnamed: 2</th>\n",
       "      <th>Unnamed: 3</th>\n",
       "      <th>Unnamed: 4</th>\n",
       "      <th>Unnamed: 5</th>\n",
       "      <th>Unnamed: 6</th>\n",
       "      <th>Unnamed: 7</th>\n",
       "    </tr>\n",
       "  </thead>\n",
       "  <tbody>\n",
       "    <tr>\n",
       "      <th>0</th>\n",
       "      <td>NaN</td>\n",
       "      <td>2000m² Retail Space</td>\n",
       "      <td>NaN</td>\n",
       "      <td>NaN</td>\n",
       "      <td>NaN</td>\n",
       "      <td>NaN</td>\n",
       "      <td>NaN</td>\n",
       "      <td>NaN</td>\n",
       "    </tr>\n",
       "    <tr>\n",
       "      <th>1</th>\n",
       "      <td>NaN</td>\n",
       "      <td>1500m² Parkong area</td>\n",
       "      <td>NaN</td>\n",
       "      <td>NaN</td>\n",
       "      <td>NaN</td>\n",
       "      <td>NaN</td>\n",
       "      <td>NaN</td>\n",
       "      <td>NaN</td>\n",
       "    </tr>\n",
       "    <tr>\n",
       "      <th>2</th>\n",
       "      <td>NaN</td>\n",
       "      <td>3500m² Solar</td>\n",
       "      <td>NaN</td>\n",
       "      <td>NaN</td>\n",
       "      <td>NaN</td>\n",
       "      <td>NaN</td>\n",
       "      <td>NaN</td>\n",
       "      <td>NaN</td>\n",
       "    </tr>\n",
       "    <tr>\n",
       "      <th>3</th>\n",
       "      <td>NaN</td>\n",
       "      <td>Opening Hours</td>\n",
       "      <td>8-22; Sunday closed</td>\n",
       "      <td>NaN</td>\n",
       "      <td>NaN</td>\n",
       "      <td>NaN</td>\n",
       "      <td>NaN</td>\n",
       "      <td>NaN</td>\n",
       "    </tr>\n",
       "    <tr>\n",
       "      <th>4</th>\n",
       "      <td>NaN</td>\n",
       "      <td>Energy Battery Space: 500kWh</td>\n",
       "      <td>NaN</td>\n",
       "      <td>NaN</td>\n",
       "      <td>NaN</td>\n",
       "      <td>NaN</td>\n",
       "      <td>NaN</td>\n",
       "      <td>NaN</td>\n",
       "    </tr>\n",
       "    <tr>\n",
       "      <th>5</th>\n",
       "      <td>NaN</td>\n",
       "      <td>Energy Consumption and Production</td>\n",
       "      <td>NaN</td>\n",
       "      <td>NaN</td>\n",
       "      <td>NaN</td>\n",
       "      <td>NaN</td>\n",
       "      <td>NaN</td>\n",
       "      <td>NaN</td>\n",
       "    </tr>\n",
       "    <tr>\n",
       "      <th>6</th>\n",
       "      <td>NaN</td>\n",
       "      <td>NaN</td>\n",
       "      <td>Consumption/m²/day</td>\n",
       "      <td>Consumption/day in kWh</td>\n",
       "      <td>Consumption/openinghour in kW</td>\n",
       "      <td>Consumption/closed hour in kW</td>\n",
       "      <td>NaN</td>\n",
       "      <td>NaN</td>\n",
       "    </tr>\n",
       "    <tr>\n",
       "      <th>7</th>\n",
       "      <td>NaN</td>\n",
       "      <td>NaN</td>\n",
       "      <td>0.86</td>\n",
       "      <td>1720</td>\n",
       "      <td>120</td>\n",
       "      <td>24</td>\n",
       "      <td>NaN</td>\n",
       "      <td>NaN</td>\n",
       "    </tr>\n",
       "    <tr>\n",
       "      <th>8</th>\n",
       "      <td>NaN</td>\n",
       "      <td>NaN</td>\n",
       "      <td>Production per day in kWh (March)</td>\n",
       "      <td>Production(average) in kW</td>\n",
       "      <td>Night in kW</td>\n",
       "      <td>Rain in kW</td>\n",
       "      <td>Cloudy in kW</td>\n",
       "      <td>Sun in kW</td>\n",
       "    </tr>\n",
       "    <tr>\n",
       "      <th>9</th>\n",
       "      <td>NaN</td>\n",
       "      <td>NaN</td>\n",
       "      <td>1680</td>\n",
       "      <td>70</td>\n",
       "      <td>0</td>\n",
       "      <td>50</td>\n",
       "      <td>80</td>\n",
       "      <td>180</td>\n",
       "    </tr>\n",
       "    <tr>\n",
       "      <th>10</th>\n",
       "      <td>NaN</td>\n",
       "      <td>NaN</td>\n",
       "      <td>NaN</td>\n",
       "      <td>NaN</td>\n",
       "      <td>NaN</td>\n",
       "      <td>NaN</td>\n",
       "      <td>NaN</td>\n",
       "      <td>NaN</td>\n",
       "    </tr>\n",
       "    <tr>\n",
       "      <th>11</th>\n",
       "      <td>Used Cars</td>\n",
       "      <td>NaN</td>\n",
       "      <td>NaN</td>\n",
       "      <td>NaN</td>\n",
       "      <td>NaN</td>\n",
       "      <td>NaN</td>\n",
       "      <td>NaN</td>\n",
       "      <td>NaN</td>\n",
       "    </tr>\n",
       "    <tr>\n",
       "      <th>12</th>\n",
       "      <td>NaN</td>\n",
       "      <td>60kWh battery capacity</td>\n",
       "      <td>NaN</td>\n",
       "      <td>NaN</td>\n",
       "      <td>NaN</td>\n",
       "      <td>NaN</td>\n",
       "      <td>NaN</td>\n",
       "      <td>NaN</td>\n",
       "    </tr>\n",
       "    <tr>\n",
       "      <th>13</th>\n",
       "      <td>NaN</td>\n",
       "      <td>120KW charging and discharging rate</td>\n",
       "      <td>NaN</td>\n",
       "      <td>NaN</td>\n",
       "      <td>NaN</td>\n",
       "      <td>NaN</td>\n",
       "      <td>NaN</td>\n",
       "      <td>NaN</td>\n",
       "    </tr>\n",
       "    <tr>\n",
       "      <th>14</th>\n",
       "      <td>NaN</td>\n",
       "      <td>30 Minutes for complete charge/discharge</td>\n",
       "      <td>NaN</td>\n",
       "      <td>NaN</td>\n",
       "      <td>NaN</td>\n",
       "      <td>NaN</td>\n",
       "      <td>NaN</td>\n",
       "      <td>NaN</td>\n",
       "    </tr>\n",
       "  </tbody>\n",
       "</table>\n",
       "</div>"
      ],
      "text/plain": [
       "   Qupermarket                                Unnamed: 1  \\\n",
       "0          NaN                       2000m² Retail Space   \n",
       "1          NaN                       1500m² Parkong area   \n",
       "2          NaN                              3500m² Solar   \n",
       "3          NaN                             Opening Hours   \n",
       "4          NaN              Energy Battery Space: 500kWh   \n",
       "5          NaN         Energy Consumption and Production   \n",
       "6          NaN                                       NaN   \n",
       "7          NaN                                       NaN   \n",
       "8          NaN                                       NaN   \n",
       "9          NaN                                       NaN   \n",
       "10         NaN                                       NaN   \n",
       "11   Used Cars                                       NaN   \n",
       "12         NaN                    60kWh battery capacity   \n",
       "13         NaN       120KW charging and discharging rate   \n",
       "14         NaN  30 Minutes for complete charge/discharge   \n",
       "\n",
       "                           Unnamed: 2                 Unnamed: 3  \\\n",
       "0                                 NaN                        NaN   \n",
       "1                                 NaN                        NaN   \n",
       "2                                 NaN                        NaN   \n",
       "3                 8-22; Sunday closed                        NaN   \n",
       "4                                 NaN                        NaN   \n",
       "5                                 NaN                        NaN   \n",
       "6                  Consumption/m²/day     Consumption/day in kWh   \n",
       "7                                0.86                       1720   \n",
       "8   Production per day in kWh (March)  Production(average) in kW   \n",
       "9                                1680                         70   \n",
       "10                                NaN                        NaN   \n",
       "11                                NaN                        NaN   \n",
       "12                                NaN                        NaN   \n",
       "13                                NaN                        NaN   \n",
       "14                                NaN                        NaN   \n",
       "\n",
       "                       Unnamed: 4                     Unnamed: 5  \\\n",
       "0                             NaN                            NaN   \n",
       "1                             NaN                            NaN   \n",
       "2                             NaN                            NaN   \n",
       "3                             NaN                            NaN   \n",
       "4                             NaN                            NaN   \n",
       "5                             NaN                            NaN   \n",
       "6   Consumption/openinghour in kW  Consumption/closed hour in kW   \n",
       "7                             120                             24   \n",
       "8                     Night in kW                     Rain in kW   \n",
       "9                               0                             50   \n",
       "10                            NaN                            NaN   \n",
       "11                            NaN                            NaN   \n",
       "12                            NaN                            NaN   \n",
       "13                            NaN                            NaN   \n",
       "14                            NaN                            NaN   \n",
       "\n",
       "      Unnamed: 6 Unnamed: 7  \n",
       "0            NaN        NaN  \n",
       "1            NaN        NaN  \n",
       "2            NaN        NaN  \n",
       "3            NaN        NaN  \n",
       "4            NaN        NaN  \n",
       "5            NaN        NaN  \n",
       "6            NaN        NaN  \n",
       "7            NaN        NaN  \n",
       "8   Cloudy in kW  Sun in kW  \n",
       "9             80        180  \n",
       "10           NaN        NaN  \n",
       "11           NaN        NaN  \n",
       "12           NaN        NaN  \n",
       "13           NaN        NaN  \n",
       "14           NaN        NaN  "
      ]
     },
     "execution_count": 2,
     "metadata": {},
     "output_type": "execute_result"
    }
   ],
   "source": [
    "dataset = pd.read_excel('WomaniumChallenge.xlsx', sheet_name='General Data')\n",
    "dataset.iloc[0:15,0:8]"
   ]
  },
  {
   "cell_type": "code",
   "execution_count": 3,
   "id": "81174e3c",
   "metadata": {},
   "outputs": [],
   "source": [
    "open_hour = 14\n",
    "energy_space = 500\n",
    "car_battery = 60\n",
    "market_open = 120\n",
    "market_close = 24"
   ]
  },
  {
   "cell_type": "code",
   "execution_count": 4,
   "id": "9032bff9",
   "metadata": {},
   "outputs": [
    {
     "data": {
      "text/html": [
       "<div>\n",
       "<style scoped>\n",
       "    .dataframe tbody tr th:only-of-type {\n",
       "        vertical-align: middle;\n",
       "    }\n",
       "\n",
       "    .dataframe tbody tr th {\n",
       "        vertical-align: top;\n",
       "    }\n",
       "\n",
       "    .dataframe thead th {\n",
       "        text-align: right;\n",
       "    }\n",
       "</style>\n",
       "<table border=\"1\" class=\"dataframe\">\n",
       "  <thead>\n",
       "    <tr style=\"text-align: right;\">\n",
       "      <th>6</th>\n",
       "      <th>Consumption/m²/day</th>\n",
       "      <th>Consumption/day in kWh</th>\n",
       "      <th>Consumption/openinghour in kW</th>\n",
       "      <th>Consumption/closed hour in kW</th>\n",
       "    </tr>\n",
       "  </thead>\n",
       "  <tbody>\n",
       "    <tr>\n",
       "      <th>7</th>\n",
       "      <td>0.86</td>\n",
       "      <td>1720</td>\n",
       "      <td>120</td>\n",
       "      <td>24</td>\n",
       "    </tr>\n",
       "  </tbody>\n",
       "</table>\n",
       "</div>"
      ],
      "text/plain": [
       "6 Consumption/m²/day Consumption/day in kWh Consumption/openinghour in kW  \\\n",
       "7               0.86                   1720                           120   \n",
       "\n",
       "6 Consumption/closed hour in kW  \n",
       "7                            24  "
      ]
     },
     "execution_count": 4,
     "metadata": {},
     "output_type": "execute_result"
    }
   ],
   "source": [
    "consumption = dataset.iloc[7:8,2:6]\n",
    "new_header = dataset.iloc[6,2:6]\n",
    "consumption.columns = new_header\n",
    "consumption"
   ]
  },
  {
   "cell_type": "code",
   "execution_count": 5,
   "id": "d7ab0962",
   "metadata": {},
   "outputs": [
    {
     "data": {
      "text/html": [
       "<div>\n",
       "<style scoped>\n",
       "    .dataframe tbody tr th:only-of-type {\n",
       "        vertical-align: middle;\n",
       "    }\n",
       "\n",
       "    .dataframe tbody tr th {\n",
       "        vertical-align: top;\n",
       "    }\n",
       "\n",
       "    .dataframe thead th {\n",
       "        text-align: right;\n",
       "    }\n",
       "</style>\n",
       "<table border=\"1\" class=\"dataframe\">\n",
       "  <thead>\n",
       "    <tr style=\"text-align: right;\">\n",
       "      <th>8</th>\n",
       "      <th>Production per day in kWh (March)</th>\n",
       "      <th>Production(average) in kW</th>\n",
       "      <th>Night in kW</th>\n",
       "      <th>Rain in kW</th>\n",
       "      <th>Cloudy in kW</th>\n",
       "      <th>Sun in kW</th>\n",
       "    </tr>\n",
       "  </thead>\n",
       "  <tbody>\n",
       "    <tr>\n",
       "      <th>9</th>\n",
       "      <td>1680</td>\n",
       "      <td>70</td>\n",
       "      <td>0</td>\n",
       "      <td>50</td>\n",
       "      <td>80</td>\n",
       "      <td>180</td>\n",
       "    </tr>\n",
       "  </tbody>\n",
       "</table>\n",
       "</div>"
      ],
      "text/plain": [
       "8 Production per day in kWh (March) Production(average) in kW Night in kW  \\\n",
       "9                              1680                        70           0   \n",
       "\n",
       "8 Rain in kW Cloudy in kW Sun in kW  \n",
       "9         50           80       180  "
      ]
     },
     "execution_count": 5,
     "metadata": {},
     "output_type": "execute_result"
    }
   ],
   "source": [
    "production = dataset.iloc[9:10,2:8]\n",
    "new_header = dataset.iloc[8,2:8]\n",
    "production.columns = new_header\n",
    "production"
   ]
  },
  {
   "cell_type": "markdown",
   "id": "e902d370",
   "metadata": {},
   "source": [
    "weather_data"
   ]
  },
  {
   "cell_type": "code",
   "execution_count": 6,
   "id": "a00a7408",
   "metadata": {
    "scrolled": true
   },
   "outputs": [
    {
     "data": {
      "text/html": [
       "<div>\n",
       "<style scoped>\n",
       "    .dataframe tbody tr th:only-of-type {\n",
       "        vertical-align: middle;\n",
       "    }\n",
       "\n",
       "    .dataframe tbody tr th {\n",
       "        vertical-align: top;\n",
       "    }\n",
       "\n",
       "    .dataframe thead th {\n",
       "        text-align: right;\n",
       "    }\n",
       "</style>\n",
       "<table border=\"1\" class=\"dataframe\">\n",
       "  <thead>\n",
       "    <tr style=\"text-align: right;\">\n",
       "      <th></th>\n",
       "      <th>Montag</th>\n",
       "      <th>Unnamed: 1</th>\n",
       "      <th>Dienstag</th>\n",
       "      <th>Unnamed: 3</th>\n",
       "      <th>Mittwoch</th>\n",
       "      <th>Unnamed: 5</th>\n",
       "      <th>Donnerstag</th>\n",
       "      <th>Unnamed: 7</th>\n",
       "      <th>Freitag</th>\n",
       "      <th>Unnamed: 9</th>\n",
       "      <th>Samstag</th>\n",
       "      <th>Unnamed: 11</th>\n",
       "      <th>Sonntag</th>\n",
       "      <th>Unnamed: 13</th>\n",
       "    </tr>\n",
       "  </thead>\n",
       "  <tbody>\n",
       "    <tr>\n",
       "      <th>0</th>\n",
       "      <td>00:00:00</td>\n",
       "      <td>Night</td>\n",
       "      <td>00:00:00</td>\n",
       "      <td>Night</td>\n",
       "      <td>00:00:00</td>\n",
       "      <td>Night</td>\n",
       "      <td>00:00:00</td>\n",
       "      <td>Night</td>\n",
       "      <td>00:00:00</td>\n",
       "      <td>Night</td>\n",
       "      <td>00:00:00</td>\n",
       "      <td>Night</td>\n",
       "      <td>00:00:00</td>\n",
       "      <td>Night</td>\n",
       "    </tr>\n",
       "    <tr>\n",
       "      <th>1</th>\n",
       "      <td>00:30:00</td>\n",
       "      <td>Night</td>\n",
       "      <td>00:30:00</td>\n",
       "      <td>Night</td>\n",
       "      <td>00:30:00</td>\n",
       "      <td>Night</td>\n",
       "      <td>00:30:00</td>\n",
       "      <td>Night</td>\n",
       "      <td>00:30:00</td>\n",
       "      <td>Night</td>\n",
       "      <td>00:30:00</td>\n",
       "      <td>Night</td>\n",
       "      <td>00:30:00</td>\n",
       "      <td>Night</td>\n",
       "    </tr>\n",
       "    <tr>\n",
       "      <th>2</th>\n",
       "      <td>01:00:00</td>\n",
       "      <td>Night</td>\n",
       "      <td>01:00:00</td>\n",
       "      <td>Night</td>\n",
       "      <td>01:00:00</td>\n",
       "      <td>Night</td>\n",
       "      <td>01:00:00</td>\n",
       "      <td>Night</td>\n",
       "      <td>01:00:00</td>\n",
       "      <td>Night</td>\n",
       "      <td>01:00:00</td>\n",
       "      <td>Night</td>\n",
       "      <td>01:00:00</td>\n",
       "      <td>Night</td>\n",
       "    </tr>\n",
       "    <tr>\n",
       "      <th>3</th>\n",
       "      <td>01:30:00</td>\n",
       "      <td>Night</td>\n",
       "      <td>01:30:00</td>\n",
       "      <td>Night</td>\n",
       "      <td>01:30:00</td>\n",
       "      <td>Night</td>\n",
       "      <td>01:30:00</td>\n",
       "      <td>Night</td>\n",
       "      <td>01:30:00</td>\n",
       "      <td>Night</td>\n",
       "      <td>01:30:00</td>\n",
       "      <td>Night</td>\n",
       "      <td>01:30:00</td>\n",
       "      <td>Night</td>\n",
       "    </tr>\n",
       "    <tr>\n",
       "      <th>4</th>\n",
       "      <td>02:00:00</td>\n",
       "      <td>Night</td>\n",
       "      <td>02:00:00</td>\n",
       "      <td>Night</td>\n",
       "      <td>02:00:00</td>\n",
       "      <td>Night</td>\n",
       "      <td>02:00:00</td>\n",
       "      <td>Night</td>\n",
       "      <td>02:00:00</td>\n",
       "      <td>Night</td>\n",
       "      <td>02:00:00</td>\n",
       "      <td>Night</td>\n",
       "      <td>02:00:00</td>\n",
       "      <td>Night</td>\n",
       "    </tr>\n",
       "  </tbody>\n",
       "</table>\n",
       "</div>"
      ],
      "text/plain": [
       "     Montag Unnamed: 1  Dienstag Unnamed: 3  Mittwoch Unnamed: 5 Donnerstag  \\\n",
       "0  00:00:00      Night  00:00:00      Night  00:00:00      Night   00:00:00   \n",
       "1  00:30:00      Night  00:30:00      Night  00:30:00      Night   00:30:00   \n",
       "2  01:00:00      Night  01:00:00      Night  01:00:00      Night   01:00:00   \n",
       "3  01:30:00      Night  01:30:00      Night  01:30:00      Night   01:30:00   \n",
       "4  02:00:00      Night  02:00:00      Night  02:00:00      Night   02:00:00   \n",
       "\n",
       "  Unnamed: 7   Freitag Unnamed: 9   Samstag Unnamed: 11   Sonntag Unnamed: 13  \n",
       "0      Night  00:00:00      Night  00:00:00       Night  00:00:00       Night  \n",
       "1      Night  00:30:00      Night  00:30:00       Night  00:30:00       Night  \n",
       "2      Night  01:00:00      Night  01:00:00       Night  01:00:00       Night  \n",
       "3      Night  01:30:00      Night  01:30:00       Night  01:30:00       Night  \n",
       "4      Night  02:00:00      Night  02:00:00       Night  02:00:00       Night  "
      ]
     },
     "execution_count": 6,
     "metadata": {},
     "output_type": "execute_result"
    }
   ],
   "source": [
    "Weather_data = pd.read_excel('WomaniumChallenge.xlsx', sheet_name='Weather Data')\n",
    "Weather_data.head()"
   ]
  },
  {
   "cell_type": "code",
   "execution_count": 7,
   "id": "d161fee7",
   "metadata": {},
   "outputs": [],
   "source": [
    "monday_W    = Weather_data[Weather_data.columns[0:2]]   \n",
    "tuesday_W   = Weather_data[Weather_data.columns[2:4]]\n",
    "wednesday_W = Weather_data[Weather_data.columns[4:6]]\n",
    "thursday_W  = Weather_data[Weather_data.columns[6:8]]\n",
    "friday_W    = Weather_data[Weather_data.columns[8:10]]\n",
    "saturday_W  = Weather_data[Weather_data.columns[10:12]]"
   ]
  },
  {
   "cell_type": "markdown",
   "id": "dbb26102",
   "metadata": {},
   "source": [
    "car_data"
   ]
  },
  {
   "cell_type": "code",
   "execution_count": 8,
   "id": "c770d62f",
   "metadata": {
    "scrolled": true
   },
   "outputs": [
    {
     "data": {
      "text/html": [
       "<div>\n",
       "<style scoped>\n",
       "    .dataframe tbody tr th:only-of-type {\n",
       "        vertical-align: middle;\n",
       "    }\n",
       "\n",
       "    .dataframe tbody tr th {\n",
       "        vertical-align: top;\n",
       "    }\n",
       "\n",
       "    .dataframe thead th {\n",
       "        text-align: right;\n",
       "    }\n",
       "</style>\n",
       "<table border=\"1\" class=\"dataframe\">\n",
       "  <thead>\n",
       "    <tr style=\"text-align: right;\">\n",
       "      <th></th>\n",
       "      <th>Car</th>\n",
       "      <th>Day</th>\n",
       "      <th>Arrival Time</th>\n",
       "      <th>Arrival Battery in %</th>\n",
       "      <th>Depature Time (End of Slot)</th>\n",
       "      <th>Minimal Depature Battery in %</th>\n",
       "    </tr>\n",
       "  </thead>\n",
       "  <tbody>\n",
       "    <tr>\n",
       "      <th>0</th>\n",
       "      <td>Mo1</td>\n",
       "      <td>Monday</td>\n",
       "      <td>08:00:00</td>\n",
       "      <td>92.0</td>\n",
       "      <td>08:00:00</td>\n",
       "      <td>53.0</td>\n",
       "    </tr>\n",
       "    <tr>\n",
       "      <th>1</th>\n",
       "      <td>Mo2</td>\n",
       "      <td>Monday</td>\n",
       "      <td>08:00:00</td>\n",
       "      <td>73.0</td>\n",
       "      <td>08:30:00</td>\n",
       "      <td>42.0</td>\n",
       "    </tr>\n",
       "    <tr>\n",
       "      <th>2</th>\n",
       "      <td>Mo3</td>\n",
       "      <td>Monday</td>\n",
       "      <td>08:00:00</td>\n",
       "      <td>73.0</td>\n",
       "      <td>09:00:00</td>\n",
       "      <td>67.0</td>\n",
       "    </tr>\n",
       "    <tr>\n",
       "      <th>3</th>\n",
       "      <td>Mo4</td>\n",
       "      <td>Monday</td>\n",
       "      <td>08:00:00</td>\n",
       "      <td>85.0</td>\n",
       "      <td>08:00:00</td>\n",
       "      <td>14.0</td>\n",
       "    </tr>\n",
       "    <tr>\n",
       "      <th>4</th>\n",
       "      <td>Mo5</td>\n",
       "      <td>Monday</td>\n",
       "      <td>08:00:00</td>\n",
       "      <td>86.0</td>\n",
       "      <td>08:00:00</td>\n",
       "      <td>76.0</td>\n",
       "    </tr>\n",
       "  </tbody>\n",
       "</table>\n",
       "</div>"
      ],
      "text/plain": [
       "   Car     Day Arrival Time  Arrival Battery in % Depature Time (End of Slot)  \\\n",
       "0  Mo1  Monday     08:00:00                  92.0                    08:00:00   \n",
       "1  Mo2  Monday     08:00:00                  73.0                    08:30:00   \n",
       "2  Mo3  Monday     08:00:00                  73.0                    09:00:00   \n",
       "3  Mo4  Monday     08:00:00                  85.0                    08:00:00   \n",
       "4  Mo5  Monday     08:00:00                  86.0                    08:00:00   \n",
       "\n",
       "   Minimal Depature Battery in %  \n",
       "0                           53.0  \n",
       "1                           42.0  \n",
       "2                           67.0  \n",
       "3                           14.0  \n",
       "4                           76.0  "
      ]
     },
     "execution_count": 8,
     "metadata": {},
     "output_type": "execute_result"
    }
   ],
   "source": [
    "Car_data = pd.read_excel('WomaniumChallenge.xlsx', sheet_name='Car Data')\n",
    "Car_data.head()"
   ]
  },
  {
   "cell_type": "code",
   "execution_count": 9,
   "id": "3c481ca4",
   "metadata": {},
   "outputs": [],
   "source": [
    "monday    = Car_data.iloc[0:127]\n",
    "tuesday   = Car_data.iloc[128:243]\n",
    "wednesday = Car_data.iloc[244:365]\n",
    "thursday  = Car_data.iloc[367:477]\n",
    "friday    = Car_data.iloc[478:588]\n",
    "saturday  = Car_data.iloc[589:793]"
   ]
  },
  {
   "cell_type": "code",
   "execution_count": 10,
   "id": "5e35bca9",
   "metadata": {},
   "outputs": [],
   "source": [
    "Plug = 420\n",
    "discharging = 84\n",
    "charging = -84\n",
    "SPS = 0"
   ]
  },
  {
   "cell_type": "code",
   "execution_count": 11,
   "id": "34341652-2ed0-4998-980f-49a2b84351e5",
   "metadata": {},
   "outputs": [
    {
     "data": {
      "text/plain": [
       "1     00:30:00\n",
       "2     01:00:00\n",
       "3     01:30:00\n",
       "4     02:00:00\n",
       "5     02:30:00\n",
       "6     03:00:00\n",
       "7     03:30:00\n",
       "8     04:00:00\n",
       "9     04:30:00\n",
       "10    05:00:00\n",
       "11    05:30:00\n",
       "12    06:00:00\n",
       "13    06:30:00\n",
       "14    07:00:00\n",
       "15    07:30:00\n",
       "16    08:00:00\n",
       "Name: Montag, dtype: object"
      ]
     },
     "execution_count": 11,
     "metadata": {},
     "output_type": "execute_result"
    }
   ],
   "source": [
    "monday_W.iloc[1:17][\"Montag\"]"
   ]
  },
  {
   "cell_type": "code",
   "execution_count": 12,
   "id": "03bc6ab0-cf37-4d5e-bbfc-9a07eaef854a",
   "metadata": {},
   "outputs": [
    {
     "name": "stdout",
     "output_type": "stream",
     "text": [
      "sum_closing_shop_hour 192.0 closing_total_weather_kW 240\n",
      "-48.0\n"
     ]
    }
   ],
   "source": [
    "from util import closing_consumption\n",
    "ctw_list= list(monday_W.iloc[1:17][\"Unnamed: 1\"])\n",
    "print(closing_consumption(csh= len(ctw_list)/2,ctw_list = ctw_list))\n",
    "#negative which mean no consumption, can store 48kW to shop battery capacity"
   ]
  },
  {
   "cell_type": "code",
   "execution_count": 40,
   "id": "27bca793-461a-4236-a771-f1a02638c749",
   "metadata": {},
   "outputs": [
    {
     "name": "stdout",
     "output_type": "stream",
     "text": [
      "Night\n",
      "Night\n",
      "Night\n",
      "Night\n",
      "Night\n",
      "Night\n",
      "Night\n",
      "Night\n",
      "Night\n",
      "Night\n",
      "Night\n",
      "Night\n",
      "Night\n",
      "Cloudy\n",
      "Cloudy\n",
      "Cloudy\n"
     ]
    }
   ],
   "source": [
    "for i in list(monday_W.iloc[1:17][\"Unnamed: 1\"]):\n",
    "    print(i)"
   ]
  },
  {
   "cell_type": "markdown",
   "id": "b82d21da",
   "metadata": {},
   "source": [
    "Cost function:\n",
    "\\begin{equation}\n",
    "f = \\sum_{}^{} (C_{plug} + C_{Electric Vehicle (discharging)}+ C_{Electric Vehicle (charging)} + C_{Solar Power System}),   \n",
    "\\end{equation}\n",
    "C_{plug} = CO_2 emission by eletricity from plug,   \n",
    "C_{Electric Vehicle (discharging)} = CO_2 emission by electricity through discharging,   \n",
    "C_{Electric Vehicle (charging)} = CO_2 emission by charging vehicles,   \n",
    "C_{Solar Power System} = CO_2 emission by using solar power system,   "
   ]
  },
  {
   "cell_type": "markdown",
   "id": "329adbaf-b945-43c3-add1-c24967c6e65e",
   "metadata": {
    "tags": []
   },
   "source": [
    "## Target \n",
    "### First method(which include most complicated situation, but cost more binary_variable)\n",
    "qubit cost = 50+ - 60+  \n",
    "the idea is from knapsnake  \n",
    "for each half an hour  \n",
    "when mintime is bigger than 0:  \n",
    "for each car(i)  \n",
    "total battery charge(tbc) = \n",
    "\\begin{equation}\n",
    "\\pm tbc = (\\pm minbattery*(\\frac{(mintime*\\frac{batterycapacity}{fullchargetime})}{\\pm minbattery})\n",
    "\\end{equation}\n",
    "when minbattery positive,choose charge or plug:  \n",
    "\\begin{equation}\n",
    "f_{charge_{i}}= (x_{i}*+tbc_{i})*dischargingcost    \n",
    "\\end{equation}\n",
    "\\begin{equation}\n",
    "f_{plug_{i}}= ((x_{i}-1)^{2}*+tbc_{i})*plugcost  \n",
    "\\end{equation}\n"
   ]
  },
  {
   "cell_type": "markdown",
   "id": "6009ba03-7286-49b0-8530-2659aee208bb",
   "metadata": {},
   "source": [
    "when minbattery negetive, choose discharge or not discharge for extra storage for future:\n",
    "\\begin{equation}\n",
    "f_{discharge_{i}} = (y_{i}*-tbc_{i}*pd_{i})*chargecost\n",
    "\\end{equation}\n",
    "pd = percentage boundary 0 <= per <= 1 "
   ]
  },
  {
   "cell_type": "markdown",
   "id": "8b7f7941-e7b6-4aaf-9456-433f12132405",
   "metadata": {},
   "source": [
    "\\begin{equation}\n",
    "f_{future_{i}} = z_{i} * fc*(1 - \\frac{fc-(-tbc*(100 - pd{i}))}{fc})*chargecost\n",
    "\\end{equation}\n",
    "fc = future consumption"
   ]
  },
  {
   "cell_type": "markdown",
   "id": "1e33dd8b-1f50-443e-adb2-4e6871c53297",
   "metadata": {},
   "source": [
    "Minimize:  \n",
    "\\begin{equation}\n",
    "\\min_{x,y,z\\in\\{0,1\\}^n}\\sum_{i}^{}f_{charge_{i}} + \\sum_{i}^{}f_{plug_{i}} + \\sum_{i}^{}f_{discharge_{i}} + \\sum_{i}^{}f_{future_{i}}\n",
    "\\end{equation}"
   ]
  },
  {
   "cell_type": "markdown",
   "id": "24b64008-9000-4441-a103-5b3d1fbae57f",
   "metadata": {
    "tags": []
   },
   "source": [
    "Subject to:\n",
    "\n",
    "\\begin{equation}\n",
    "\\sum_{i}^{}(x_{i}*+tbc_{i}) + (y_{i}*-tbc_{i}) <= sbc\n",
    "\\end{equation}\n",
    "\n",
    "\\begin{equation}\n",
    "\\sum_{i}^{}z_{i}(-tbc_{i}*(100 - pd_{i}))<=fc\n",
    "\\end{equation}\n",
    "\n",
    "\\begin{equation}\n",
    "\\sum_{i}^{}z_{i}(-tbc_{i}*(100 - pd_{i})) <= sbc_{limit}\n",
    "\\end{equation}\n",
    "- fp = future production,\n",
    "sbc = supermarket battery capacity"
   ]
  },
  {
   "cell_type": "markdown",
   "id": "7d2a9322-04ab-4f66-9198-001a7b66324f",
   "metadata": {},
   "source": [
    "\n",
    "- x,y,z = 1/0 for choose  \n",
    "- [ ] minbattery = (minimal departure battery - arrival battery)* car battery capacity, how much car capacity have\n",
    "- [ ] if mintime > 30 and ((minbattery/ charging rate per minute)-30) > 0, then saving_minbattery = (((minbattery/ charging rate per minute)-30)*charging rate per minute) for include in the next loop,and current minbattery = minbattery - saving minbattery, so I know what if the car need to charge over 30 minute\n",
    "- [ ] if tbc percentage > 1(so I know it need lesser time to charge), then mintime = (minbattery/ charging rate per minute)  \n",
    "and if mintime > 30(check if there is duplicate time line),  sbc_limit = sbc_limit + ((mintime*batteryrateperminute) - minbattery), so I can use it to store more energy, so sbc_limit need to recalculate when the car left.(remind: this type of algorithm wont work in contineuous stituation with different charging rate because it didn't include the charging rate constraints to sbc_limit)\n",
    "- [ ] mintime = departure time - arrival time\n",
    "- [ ] so we don't need the probabilty variable, pd = (total_-tbc/number of car)/-tbc_i, all should smaller than 1, seperate the battery to other car that has space for that.\n",
    "- [ ] positive, cost = plug_co2 or discharging_co2(which (x-1)^2 for choosing), else cost = charge_co2\n",
    "\n",
    "feel free to make a latex equation(so actually this is also allow to include into the quadratic equation or adiabatic, for increase scale, but here we want to scale down so we prepare the initial data oursevles)\n",
    "- [ ] closing_consumption = closing_shop_consumption - closing_total_weather_kW(production); so sbc = sbc - closing_consumption  \n",
    "- [ ] open_consumption = (sum of total_battery_charge + opening_hour_consumption) - opening_weather_kW(production)\n",
    "- [ ] future consumption =  open_consumption + closing_consumption\n",
    "- [ ] sbc = closing_total_weather_kW + open_weather_kW\n"
   ]
  },
  {
   "cell_type": "markdown",
   "id": "3119da6f-3d91-47e3-bbb3-f1e73ac7cbfc",
   "metadata": {},
   "source": [
    "when minbattery positive,choose charge or plug:  \n",
    "- for charge only, total battery charge <= supermarket battery capacity - previous car total battery charge\n",
    "- both, total battery charge = minimal departure battery  "
   ]
  },
  {
   "cell_type": "markdown",
   "id": "4988d40b-13d0-4606-b2f0-10b92cf00be9",
   "metadata": {},
   "source": [
    "when minbattery negetive, choose discharge or not discharge for extra storage for future:\n",
    "- supermarket battery capacity <= overall future consumption;\n",
    "- supermarket battery capacity <= limit of supermarket battery capacity\n",
    "\n",
    "solar power should grow automatic in this model"
   ]
  },
  {
   "cell_type": "markdown",
   "id": "914765b8-93a7-43d8-868f-5cddaff981cd",
   "metadata": {},
   "source": [
    "something need to showcase also:  \n",
    "- number of qubit = 1 + 2*(variable_number-1)  \n",
    "- so we need to show if we can ignore the f_future and f_discharge, use less qubit"
   ]
  },
  {
   "cell_type": "markdown",
   "id": "154224f8-281d-43d5-b2cd-a4a89df611d6",
   "metadata": {
    "tags": []
   },
   "source": [
    "### second method for knapsack(normal knapsack, need far less qubit, but can't handle more complicated situation and is not the optimal solution) \n",
    "qubit cost= around 20+ qubit  \n",
    "when minbattery positive,choose charge or plug:  \n",
    "\\begin{equation}\n",
    "f_{charge_{i}}= (x_{i}*+tbc_{i})*dischargingcost    \n",
    "\\end{equation}\n",
    "\\begin{equation}\n",
    "f_{plug_{i}}= ((x_{i}-1)^{2}*+tbc_{i})*plugcost  \n",
    "\\end{equation}\n",
    "\n",
    "Minimize:  \n",
    "\\begin{equation}\n",
    "\\min_{x\\in\\{0,1\\}^n}\\sum_{i}^{}f_{charge_{i}} + \\sum_{i}^{}f_{plug_{i}}\n",
    "\\end{equation}\n",
    "Subject to:\n",
    "\n",
    "\\begin{equation}\n",
    "\\sum_{i}^{}(x_{i}*+tbc_{i}) <= sbc + totalminustbc\n",
    "\\end{equation}\n",
    "- fp = future production,\n",
    "sbc = supermarket battery capacity"
   ]
  },
  {
   "cell_type": "markdown",
   "id": "954ce3e0-246f-41c5-aa16-d2ee1ce5789f",
   "metadata": {},
   "source": [
    "- [ ] calculate the future saving out."
   ]
  },
  {
   "cell_type": "markdown",
   "id": "eb9b447c-d3c8-4904-85ba-76a38b40f94f",
   "metadata": {},
   "source": [
    "### third method: dont need knapsack, not even need quantum speed up\n",
    "doing simple math with logic,  \n",
    "- ((sbc + -tbc) - +tbc)  \n",
    "if it is positive, sbc <= sbc_limit for next loop.  \n",
    "if it is negative, use plug.  \n",
    "- other similar condition"
   ]
  },
  {
   "cell_type": "markdown",
   "id": "5a61324a-8957-4de1-9cf2-c36431e105ab",
   "metadata": {},
   "source": [
    "qiskit-optimization tutorial: https://github.com/Qiskit/qiskit-optimization/tree/main/docs/tutorials"
   ]
  },
  {
   "cell_type": "markdown",
   "id": "2c82fa58-2d02-44ac-b14b-b09d86179d44",
   "metadata": {},
   "source": [
    "example approch:"
   ]
  },
  {
   "attachments": {
    "6f01ad43-5b8c-43ba-8db4-bb967bb6ccb9.png": {
     "image/png": "[encoded data removed]"
    }
   },
   "cell_type": "markdown",
   "id": "c5ef71f4-3458-4652-b5aa-7f9113a3ea8c",
   "metadata": {},
   "source": [
    "introduction to qiskit-optimizer:https://medium.com/qiskit/towards-quantum-advantage-for-optimization-with-qiskit-9a564339ef26\n",
    "![image.png](attachment:6f01ad43-5b8c-43ba-8db4-bb967bb6ccb9.png)"
   ]
  },
  {
   "cell_type": "markdown",
   "id": "7eb91ab6",
   "metadata": {},
   "source": [
    "1. loop for quadratic program\n",
    "2. qaoa & qiskit_runtime\n",
    "3. classical solution\n",
    "4. presentation"
   ]
  },
  {
   "cell_type": "code",
   "execution_count": 1,
   "id": "ae20e3fd-5fbe-4a90-89d1-c12b021ce3fe",
   "metadata": {},
   "outputs": [],
   "source": [
    "import util"
   ]
  },
  {
   "cell_type": "code",
   "execution_count": 2,
   "id": "dd1b8d3a-d837-4da5-8654-e4aa7b265a24",
   "metadata": {},
   "outputs": [
    {
     "data": {
      "text/plain": [
       "<function util.closing_consumption(csc: int = None, ctw: int = None) -> int>"
      ]
     },
     "execution_count": 2,
     "metadata": {},
     "output_type": "execute_result"
    }
   ],
   "source": [
    "util.minbattery\n",
    "util.mintime\n",
    "util.closing_consumption"
   ]
  },
  {
   "cell_type": "markdown",
   "id": "7327d544-96a9-4e2d-8905-6cada0ce5492",
   "metadata": {},
   "source": [
    "### first method: predefine the probability, only if every car is the same"
   ]
  },
  {
   "cell_type": "code",
   "execution_count": 1,
   "id": "9a9d37c0-17c7-4428-bb82-df6c333f18bd",
   "metadata": {},
   "outputs": [],
   "source": [
    "from qiskit_optimization.algorithms import MinimumEigenOptimizer\n",
    "from qiskit import Aer\n",
    "from qiskit.utils import algorithm_globals, QuantumInstance\n",
    "from qiskit.algorithms import QAOA, NumPyMinimumEigensolver\n",
    "import numpy as np"
   ]
  },
  {
   "cell_type": "code",
   "execution_count": 105,
   "id": "5941a236-3fde-43d8-8bf6-572bcc336b4d",
   "metadata": {},
   "outputs": [
    {
     "name": "stdout",
     "output_type": "stream",
     "text": [
      "Problem name: cost function\n",
      "\n",
      "Minimize\n",
      "  x + y + 15.45\n",
      "\n",
      "Subject to\n",
      "  Linear constraints (2)\n",
      "    x + 2*y <= 1.7  'sbc'\n",
      "    x + y <= 1  'sbc_limit'\n",
      "\n",
      "  Binary variables (2)\n",
      "    x y\n",
      "\n"
     ]
    }
   ],
   "source": [
    "from docplex.mp.model import Model\n",
    "from qiskit_optimization.translators import from_docplex_mp\n",
    "\n",
    "# construct model using docplex\n",
    "mdl = Model(\"cost function\")\n",
    "\n",
    "v = mdl.binary_var(name=\"x\")\n",
    "w = mdl.binary_var(name=\"y\")\n",
    "#w=1\n",
    "#t = mdl.binary_var(name=\"z\")\n",
    "t=1\n",
    "u=0.3\n",
    "\n",
    "mdl.minimize(v + w + t + 5 * (u - 2) ** 2)\n",
    "mdl.add_constraint(v + 2 * w + t + u <= 3, \"sbc\")\n",
    "#mdl.add_constraint(v + w + t <= 1, \"fc\")\n",
    "#mdl.add_constraint(v + w <= 1, \"sbc_limit\")\n",
    "\n",
    "# load quadratic program from docplex model\n",
    "qp = from_docplex_mp(mdl)\n",
    "print(qp.prettyprint())"
   ]
  },
  {
   "cell_type": "code",
   "execution_count": 106,
   "id": "e793b1f1-5317-4483-a339-f6037e5329f8",
   "metadata": {},
   "outputs": [
    {
     "name": "stderr",
     "output_type": "stream",
     "text": [
      "Warning: Using 100000.000000 for the penalty coefficient because a float coefficient exists in constraints. \n",
      "The value could be too small. If so, set the penalty coefficient manually.\n"
     ]
    }
   ],
   "source": [
    "from qiskit_optimization.converters import QuadraticProgramToQubo\n",
    "conv = QuadraticProgramToQubo()\n",
    "qubo_model = conv.convert(qp)\n",
    "ising = qubo_model.to_ising()\n",
    "ising_matrix = ising[0].to_matrix()"
   ]
  },
  {
   "cell_type": "code",
   "execution_count": 107,
   "id": "fdb0d576-7b2f-4d8e-99e0-59fa98ee24c9",
   "metadata": {},
   "outputs": [
    {
     "name": "stdout",
     "output_type": "stream",
     "text": [
      "(PauliSumOp(SparsePauliOp(['IIZ', 'IZI', 'ZII', 'IZZ', 'ZIZ', 'ZZI'],\n",
      "              coeffs=[-125003.5+0.j, -225006.5+0.j, -100003. +0.j,  125003. +0.j,   50001.5+0.j,\n",
      "  100003. +0.j]), coeff=1.0), 275023.95)\n",
      "minimize 100003*sbc@int_slack@0^2 + 200006*x*sbc@int_slack@0 + 100003*x^2 + 500012*x*y + 400012*y*sbc@int_slack@0 + 400012*y^2 - 200006*sbc@int_slack@0 - 200005*x - 400011*y + 100018.45 (3 variables, 0 constraints, 'cost function')\n",
      "[[-175005.5+0.j       0. +0.j       0. +0.j       0. +0.j       0. +0.j\n",
      "        0. +0.j       0. +0.j       0. +0.j]\n",
      " [      0. +0.j -275007.5+0.j       0. +0.j       0. +0.j       0. +0.j\n",
      "        0. +0.j       0. +0.j       0. +0.j]\n",
      " [      0. +0.j       0. +0.j -175004.5+0.j       0. +0.j       0. +0.j\n",
      "        0. +0.j       0. +0.j       0. +0.j]\n",
      " [      0. +0.j       0. +0.j       0. +0.j  225005.5+0.j       0. +0.j\n",
      "        0. +0.j       0. +0.j       0. +0.j]\n",
      " [      0. +0.j       0. +0.j       0. +0.j       0. +0.j -275008.5+0.j\n",
      "        0. +0.j       0. +0.j       0. +0.j]\n",
      " [      0. +0.j       0. +0.j       0. +0.j       0. +0.j       0. +0.j\n",
      "  -175004.5+0.j       0. +0.j       0. +0.j]\n",
      " [      0. +0.j       0. +0.j       0. +0.j       0. +0.j       0. +0.j\n",
      "        0. +0.j  125004.5+0.j       0. +0.j]\n",
      " [      0. +0.j       0. +0.j       0. +0.j       0. +0.j       0. +0.j\n",
      "        0. +0.j       0. +0.j  725020.5+0.j]]\n",
      "100018.45 - 100002*v0 + v1 - 100003*v2 + 500012*v0*v1 + 200006*v0*v2 + 400012*v1*v2\n",
      "({0: 125003.5, 1: 225006.5, 2: 100003.0}, {(1, 0): 125003.0, (2, 0): 50001.5, (2, 1): 100003.0}, 275023.95)\n"
     ]
    }
   ],
   "source": [
    "import dimod\n",
    "print(ising)\n",
    "print(qubo_model)\n",
    "print(ising_matrix)\n",
    "\n",
    "linear_array = qubo_model.objective.linear.to_dict()\n",
    "quadratic_array = qubo_model.objective.quadratic.to_dict()\n",
    "offset = qubo_model.objective.constant\n",
    "bqm = dimod.BinaryQuadraticModel(linear_array, quadratic_array, offset, dimod.BINARY)\n",
    "print(bqm.to_polystring())\n",
    "print(bqm.to_ising())"
   ]
  },
  {
   "cell_type": "code",
   "execution_count": 108,
   "id": "533a19e8-40ca-4949-9399-2f7d1de89b04",
   "metadata": {},
   "outputs": [
    {
     "name": "stdout",
     "output_type": "stream",
     "text": [
      "3\n"
     ]
    },
    {
     "data": {
      "image/png": "[encoded data removed]",
      "text/plain": [
       "<Figure size 628.397x204.68 with 1 Axes>"
      ]
     },
     "execution_count": 108,
     "metadata": {},
     "output_type": "execute_result"
    }
   ],
   "source": [
    "circuit =ising[0].exp_i().to_circuit().decompose(reps=0)\n",
    "print(circuit.depth())\n",
    "circuit.draw('mpl')"
   ]
  },
  {
   "cell_type": "markdown",
   "id": "8243ad41-ac8b-4c90-8b1d-6f5b7cf88486",
   "metadata": {},
   "source": [
    "classical optimizer"
   ]
  },
  {
   "cell_type": "code",
   "execution_count": 15,
   "id": "4898b9d1-5277-4ac7-9b7b-a02ef01d1f1f",
   "metadata": {},
   "outputs": [
    {
     "name": "stderr",
     "output_type": "stream",
     "text": [
      "Warning: Using 100000.000000 for the penalty coefficient because a float coefficient exists in constraints. \n",
      "The value could be too small. If so, set the penalty coefficient manually.\n"
     ]
    },
    {
     "name": "stdout",
     "output_type": "stream",
     "text": [
      "result:\n",
      " fval=14.45, x=0.0, y=0.0, z=0.0, status=SUCCESS\n"
     ]
    }
   ],
   "source": [
    "meo = MinimumEigenOptimizer(min_eigen_solver=NumPyMinimumEigensolver())\n",
    "result = meo.solve(qp)\n",
    "print('result:\\n', result)\n",
    "#print('\\n index of the chosen items:', prob.interpret(result)) "
   ]
  },
  {
   "cell_type": "markdown",
   "id": "6c5f3eb2-8f78-40e5-b9b2-99cfeb6b167d",
   "metadata": {},
   "source": [
    "quantum optimizer"
   ]
  },
  {
   "cell_type": "code",
   "execution_count": 40,
   "id": "e7a74200-c5e0-4a08-8c0c-0abb426cec55",
   "metadata": {},
   "outputs": [
    {
     "name": "stderr",
     "output_type": "stream",
     "text": [
      "Warning: Using 100000.000000 for the penalty coefficient because a float coefficient exists in constraints. \n",
      "The value could be too small. If so, set the penalty coefficient manually.\n"
     ]
    },
    {
     "name": "stdout",
     "output_type": "stream",
     "text": [
      "result:\n",
      " fval=14.45, x=0.0, y=0.0, z=0.0, status=SUCCESS\n"
     ]
    }
   ],
   "source": [
    "# QAOA\n",
    "seed = 123\n",
    "algorithm_globals.random_seed = seed\n",
    "qins = QuantumInstance(backend=Aer.get_backend('qasm_simulator'), shots=1000, seed_simulator=seed, seed_transpiler=seed)\n",
    "\n",
    "meo = MinimumEigenOptimizer(min_eigen_solver=QAOA(reps=1, quantum_instance=qins))\n",
    "result = meo.solve(qp)\n",
    "print('result:\\n', result)\n",
    "#print('\\n index of the chosen items:', prob.interpret(result)) "
   ]
  },
  {
   "cell_type": "markdown",
   "id": "ef8fe9c8-1ea1-4233-9d1b-f7f7daf2887d",
   "metadata": {},
   "source": [
    "###  second method: real application version, will deal with different car variable with different co2 cost, it will take much longer to run"
   ]
  },
  {
   "cell_type": "code",
   "execution_count": 17,
   "id": "e960215a-fc63-4fd1-b69d-5c8667ebd1b1",
   "metadata": {},
   "outputs": [
    {
     "name": "stdout",
     "output_type": "stream",
     "text": [
      "Problem name: cost function\n",
      "\n",
      "Minimize\n",
      "  5*p^2 - 20*p + x + y + z + 20\n",
      "\n",
      "Subject to\n",
      "  Linear constraints (3)\n",
      "    p + x + 2*y + z <= 3  'sbc'\n",
      "    x + y + z <= 1  'fc'\n",
      "    x + y <= 1  'sbc_limit'\n",
      "\n",
      "  Continuous variables (1)\n",
      "    0 <= p <= 1\n",
      "\n",
      "  Binary variables (3)\n",
      "    x y z\n",
      "\n"
     ]
    }
   ],
   "source": [
    "from docplex.mp.model import Model\n",
    "from qiskit_optimization.translators import from_docplex_mp\n",
    "\n",
    "# construct model using docplex\n",
    "mdl = Model(\"cost function\")\n",
    "\n",
    "v = mdl.binary_var(name=\"x\")\n",
    "w = mdl.binary_var(name=\"y\")\n",
    "t = mdl.binary_var(name=\"z\")\n",
    "u = mdl.continuous_var(lb=0, ub=1,name=\"p\")\n",
    "\n",
    "mdl.minimize(v + w + t + 5 * (u - 2) ** 2)\n",
    "mdl.add_constraint(v + 2 * w + t + u <= 3, \"sbc\")\n",
    "mdl.add_constraint(v + w + t <= 1, \"fc\")\n",
    "mdl.add_constraint(v + w <= 1, \"sbc_limit\")\n",
    "\n",
    "# load quadratic program from docplex model\n",
    "qp = from_docplex_mp(mdl)\n",
    "print(qp.prettyprint())"
   ]
  },
  {
   "cell_type": "markdown",
   "id": "6a9ec1e3-19d5-40ed-82ee-05cbbc8db71b",
   "metadata": {},
   "source": [
    "from: https://qiskit.org/documentation/optimization/tutorials/05_admm_optimizer.html"
   ]
  },
  {
   "cell_type": "markdown",
   "id": "2b5249c9-de10-4f8f-90ee-fd192bbc8241",
   "metadata": {},
   "source": [
    "quantum and classical contineuous optimizer"
   ]
  },
  {
   "cell_type": "code",
   "execution_count": 18,
   "id": "b8f3571f-bc30-483e-a605-280a5256ba06",
   "metadata": {},
   "outputs": [],
   "source": [
    "from qiskit_optimization.algorithms import CobylaOptimizer, MinimumEigenOptimizer,SlsqpOptimizer\n",
    "from qiskit import BasicAer\n",
    "from qiskit.algorithms import QAOA, NumPyMinimumEigensolver\n",
    "from qiskit_optimization.algorithms.admm_optimizer import ADMMParameters, ADMMOptimizer\n",
    "\n",
    "admm_params = ADMMParameters(\n",
    "    rho_initial=1001, beta=1000, factor_c=900, maxiter=100, three_block=True, tol=1.0e-6)\n"
   ]
  },
  {
   "cell_type": "code",
   "execution_count": 19,
   "id": "fbf1e26a-0461-4b2b-98ff-cde58aaa2541",
   "metadata": {},
   "outputs": [],
   "source": [
    "exact = MinimumEigenOptimizer(NumPyMinimumEigensolver())#classical solver\n",
    "qaoa = MinimumEigenOptimizer(QAOA(quantum_instance=BasicAer.get_backend(\"statevector_simulator\")))#quantum solver\n",
    "cobyla = CobylaOptimizer()"
   ]
  },
  {
   "cell_type": "code",
   "execution_count": 20,
   "id": "ccafd405-c122-47ce-88b0-c988890a2ab9",
   "metadata": {},
   "outputs": [],
   "source": [
    "# define continuous_optimizer\n",
    "continuous_optimizer = qaoa\n",
    "# continuous_optimizer = cplex  # uncomment to use CPLEX instead\n",
    "\n",
    "# define classical optimizer\n",
    "convex_optimizer = CobylaOptimizer()\n",
    "# convex_optimizer = cplex  # uncomment to use CPLEX instead\n",
    "\n",
    "# initialize ADMM with classical QUBO and convex optimizer\n",
    "admm = ADMMOptimizer(\n",
    "    params=admm_params, qubo_optimizer=continuous_optimizer, continuous_optimizer=convex_optimizer)\n"
   ]
  },
  {
   "cell_type": "code",
   "execution_count": 21,
   "id": "38ffd4f7-52d6-4bbb-8d69-e61fbeb6a2f5",
   "metadata": {},
   "outputs": [],
   "source": [
    "# run ADMM to solve problem\n",
    "result = admm.solve(qp)\n"
   ]
  },
  {
   "cell_type": "code",
   "execution_count": 22,
   "id": "34f867ce-9496-402e-8117-f3c93b9e696a",
   "metadata": {},
   "outputs": [
    {
     "name": "stdout",
     "output_type": "stream",
     "text": [
      "objective function value: 4.999999999999998\n",
      "variable values: x=0.0, y=0.0, z=0.0, p=1.0000000000000002\n",
      "status: INFEASIBLE\n"
     ]
    }
   ],
   "source": [
    "print(result.prettyprint())"
   ]
  },
  {
   "cell_type": "code",
   "execution_count": 23,
   "id": "0750814b-921d-4e51-862d-3c5772c77315",
   "metadata": {},
   "outputs": [
    {
     "data": {
      "image/png": "[encoded data removed]",
      "text/plain": [
       "<Figure size 432x288 with 1 Axes>"
      ]
     },
     "metadata": {
      "needs_background": "light"
     },
     "output_type": "display_data"
    }
   ],
   "source": [
    "import matplotlib.pyplot as plt\n",
    "plt.plot(result.state.residuals)\n",
    "plt.xlabel(\"Iterations\")\n",
    "plt.ylabel(\"Residuals\")\n",
    "plt.show()"
   ]
  },
  {
   "cell_type": "markdown",
   "id": "9f113a34-3ab4-4cdc-b8e2-a14c49335fc2",
   "metadata": {},
   "source": [
    "classical optimizer"
   ]
  },
  {
   "cell_type": "code",
   "execution_count": 24,
   "id": "f13e0b13",
   "metadata": {},
   "outputs": [
    {
     "name": "stdout",
     "output_type": "stream",
     "text": [
      "Restricted license - for non-production use only - expires 2023-10-25\n",
      "cplex\n",
      "fval=5.0, x=0.0, y=0.0, z=0.0, p=1.0, status=SUCCESS\n",
      "\n",
      "gurobi\n",
      "fval=5.0, x=0.0, y=0.0, z=0.0, p=1.0, status=SUCCESS\n"
     ]
    }
   ],
   "source": [
    "from qiskit_optimization.algorithms import CplexOptimizer, GurobiOptimizer\n",
    "\n",
    "cplex_result = CplexOptimizer().solve(qp)\n",
    "gurobi_result = GurobiOptimizer().solve(qp)\n",
    "\n",
    "print(\"cplex\")\n",
    "print(cplex_result)\n",
    "print()\n",
    "print(\"gurobi\")\n",
    "print(gurobi_result)"
   ]
  },
  {
   "cell_type": "code",
   "execution_count": 25,
   "id": "b7d16cbe",
   "metadata": {},
   "outputs": [
    {
     "name": "stdout",
     "output_type": "stream",
     "text": [
      "Version identifier: 22.1.0.0 | 2022-03-25 | 54982fbec\n",
      "CPXPARAM_Read_DataCheck                          1\n",
      "CPXPARAM_Threads                                 1\n",
      "CPXPARAM_TimeLimit                               0.10000000000000001\n",
      "Found incumbent of value 20.000000 after 0.00 sec. (0.00 ticks)\n",
      "Tried aggregator 1 time.\n",
      "MIP Presolve eliminated 3 rows and 4 columns.\n",
      "All rows and columns eliminated.\n",
      "Presolve time = 0.01 sec. (0.00 ticks)\n",
      "\n",
      "Root node processing (before b&c):\n",
      "  Real time             =    0.02 sec. (0.00 ticks)\n",
      "Sequential b&c:\n",
      "  Real time             =    0.00 sec. (0.00 ticks)\n",
      "                          ------------\n",
      "Total (root+branch&cut) =    0.02 sec. (0.00 ticks)\n",
      "fval=5.0, x=0.0, y=0.0, z=0.0, p=1.0, status=SUCCESS\n"
     ]
    }
   ],
   "source": [
    "result = CplexOptimizer(disp=True, cplex_parameters={\"threads\": 1, \"timelimit\": 0.1}).solve(qp)\n",
    "print(result)"
   ]
  },
  {
   "cell_type": "markdown",
   "id": "8291fba5-4a2c-4957-b7f6-c2d38cf7e902",
   "metadata": {},
   "source": [
    "## possible further extend:\n",
    "- possibility for adiabatic for noiseless QC\n",
    "- can scale up to running all data or equation at once\n",
    "- make change how to prepare the initial data to make it useful to continuous situation, like different battery capacity, charging rate, and arrival time."
   ]
  }
 ],
 "metadata": {
  "kernelspec": {
   "display_name": "womanium",
   "language": "python",
   "name": "womanium"
  },
  "language_info": {
   "codemirror_mode": {
    "name": "ipython",
    "version": 3
   },
   "file_extension": ".py",
   "mimetype": "text/x-python",
   "name": "python",
   "nbconvert_exporter": "python",
   "pygments_lexer": "ipython3",
   "version": "3.10.4"
  },
  "latex_envs": {
   "LaTeX_envs_menu_present": true,
   "autoclose": false,
   "autocomplete": true,
   "bibliofile": "biblio.bib",
   "cite_by": "apalike",
   "current_citInitial": 1,
   "eqLabelWithNumbers": true,
   "eqNumInitial": 1,
   "hotkeys": {
    "equation": "Ctrl-E",
    "itemize": "Ctrl-I"
   },
   "labels_anchors": false,
   "latex_user_defs": false,
   "report_style_numbering": false,
   "user_envs_cfg": false
  },
  "toc": {
   "base_numbering": 1,
   "nav_menu": {},
   "number_sections": true,
   "sideBar": true,
   "skip_h1_title": false,
   "title_cell": "Table of Contents",
   "title_sidebar": "Contents",
   "toc_cell": false,
   "toc_position": {},
   "toc_section_display": true,
   "toc_window_display": false
  }
 },
 "nbformat": 4,
 "nbformat_minor": 5
}
