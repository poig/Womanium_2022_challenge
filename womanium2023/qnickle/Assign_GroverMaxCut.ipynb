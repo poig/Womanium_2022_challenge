{
 "cells": [
  {
   "attachments": {},
   "cell_type": "markdown",
   "metadata": {
    "deletable": false,
    "editable": false,
    "nbgrader": {
     "cell_type": "markdown",
     "checksum": "ac08d7ea268ce6a20a0e0a0d19c24352",
     "grade": false,
     "grade_id": "cell-33da3167fca0d468",
     "locked": true,
     "schema_version": 3,
     "solution": false,
     "task": false
    }
   },
   "source": [
    "# Homework - Grover MaxCut\n",
    "\n",
    "The places where you have enter code are marked with `# YOUR CODE HERE`."
   ]
  },
  {
   "cell_type": "code",
   "execution_count": 1,
   "metadata": {},
   "outputs": [],
   "source": [
    "import cirq\n",
    "from cirq import H, X, Y, Z, CX, inverse"
   ]
  },
  {
   "attachments": {},
   "cell_type": "markdown",
   "metadata": {
    "deletable": false,
    "editable": false,
    "nbgrader": {
     "cell_type": "markdown",
     "checksum": "bf11ad3e7660aeddedc045e15c71a401",
     "grade": false,
     "grade_id": "cell-d981eeb5458c0744",
     "locked": true,
     "schema_version": 3,
     "solution": false,
     "task": false
    }
   },
   "source": [
    "## Question 1 (4 points)\n",
    "\n",
    "Write a function, `oracle010`, that implements an oracle that marks the state $|010 \\rangle$. The function `oracle010` has\n",
    "\n",
    "* input: `qq`, a 3-qubit register \n",
    "* returns: None\n",
    "\n",
    "The function should append a sequence of gates to `qq` to mark the state $|010\\rangle$ only. Don't append any measurements to `qq`.\n",
    "\n",
    "To help you test the function, we have provided the `grover_diffusion` and `grover` functions."
   ]
  },
  {
   "cell_type": "code",
   "execution_count": 2,
   "metadata": {
    "deletable": false,
    "nbgrader": {
     "cell_type": "code",
     "checksum": "3234c674937c9ea97ec27157e9062acf",
     "grade": false,
     "grade_id": "cell-a08e811a0e1777c7",
     "locked": false,
     "schema_version": 3,
     "solution": true,
     "task": false
    }
   },
   "outputs": [],
   "source": [
    "def oracle010(qq):\n",
    "    # YOUR CODE HERE\n",
    "    qq_list = []\n",
    "    qq_list.append(cirq.X(qq[0]))\n",
    "    qq_list.append(cirq.X(qq[2]))\n",
    "    qq_list.append(cirq.CZ(qq[0], qq[2]).controlled_by(qq[1]))\n",
    "    qq_list.append(cirq.X(qq[0]))\n",
    "    qq_list.append(cirq.X(qq[2]))\n",
    "    #qq_list.append(cirq.Z(qq[1]).controlled_by(qq[0], qq[2]))\n",
    "\n",
    "    return qq_list\n"
   ]
  },
  {
   "cell_type": "code",
   "execution_count": 3,
   "metadata": {},
   "outputs": [
    {
     "data": {
      "text/html": [
       "<pre style=\"overflow: auto; white-space: pre;\">0: ───X───@───X───\n",
       "          │\n",
       "1: ───────@───────\n",
       "          │\n",
       "2: ───X───@───X───</pre>"
      ],
      "text/plain": [
       "0: ───X───@───X───\n",
       "          │\n",
       "1: ───────@───────\n",
       "          │\n",
       "2: ───X───@───X───"
      ]
     },
     "execution_count": 3,
     "metadata": {},
     "output_type": "execute_result"
    }
   ],
   "source": [
    "# visualize your implemented gates\n",
    "qqTest = cirq.LineQubit.range(3)\n",
    "circuit = cirq.Circuit()\n",
    "circuit.append(oracle010(qqTest))\n",
    "circuit"
   ]
  },
  {
   "cell_type": "code",
   "execution_count": 4,
   "metadata": {},
   "outputs": [],
   "source": [
    "# To check your solution, we need some to implement grover\n",
    "def grover_diffusion(qq,n):\n",
    "    yield H.on_each(*qq)\n",
    "    yield X.on_each(*qq)\n",
    "    yield Z(qq[n-1]).controlled_by(*(qq[0:n-1]))\n",
    "    yield X.on_each(*qq)\n",
    "    yield H.on_each(*qq)"
   ]
  },
  {
   "cell_type": "code",
   "execution_count": 5,
   "metadata": {},
   "outputs": [],
   "source": [
    "def grover(trials_number):\n",
    "    n=3\n",
    "    qq = cirq.LineQubit.range(n)\n",
    "    circuit = cirq.Circuit()\n",
    "    circuit.append(H.on_each(*qq))  \n",
    "\n",
    "    for i in range(2):\n",
    "        circuit.append(oracle010(qq))\n",
    "        circuit.append(grover_diffusion(qq,n))\n",
    "    circuit.append(cirq.measure(*qq, key='result'))\n",
    "\n",
    "    # determine the statistics of the measurements\n",
    "    s = cirq.Simulator() \n",
    "    \n",
    "    samples = s.run(circuit, repetitions=trials_number)\n",
    "\n",
    "    def bitstring(bits):\n",
    "        return \"\".join(str(int(b)) for b in bits)\n",
    "\n",
    "    counts = samples.histogram(key=\"result\",fold_func=bitstring)\n",
    "    print(counts)\n",
    "    return counts.get('010')"
   ]
  },
  {
   "cell_type": "code",
   "execution_count": 6,
   "metadata": {},
   "outputs": [
    {
     "name": "stdout",
     "output_type": "stream",
     "text": [
      "Counter({'010': 97, '110': 2, '001': 1})\n"
     ]
    },
    {
     "data": {
      "text/plain": [
       "97"
      ]
     },
     "execution_count": 6,
     "metadata": {},
     "output_type": "execute_result"
    }
   ],
   "source": [
    "# run grover to test if your function gives the right answer\n",
    "grover(100)"
   ]
  },
  {
   "cell_type": "code",
   "execution_count": 7,
   "metadata": {
    "deletable": false,
    "editable": false,
    "nbgrader": {
     "cell_type": "code",
     "checksum": "cf2c533cdb00d2a3feebe35eda382c3e",
     "grade": true,
     "grade_id": "cell-c892138426ad8ca2",
     "locked": true,
     "points": 4,
     "schema_version": 3,
     "solution": false,
     "task": false
    }
   },
   "outputs": [],
   "source": [
    "# hidden tests in this cell will be used for grading."
   ]
  },
  {
   "attachments": {},
   "cell_type": "markdown",
   "metadata": {
    "deletable": false,
    "editable": false,
    "nbgrader": {
     "cell_type": "markdown",
     "checksum": "fd7997be432b382308c38c7229d29feb",
     "grade": false,
     "grade_id": "cell-cd7b8bfe0163bb3c",
     "locked": true,
     "schema_version": 3,
     "solution": false,
     "task": false
    }
   },
   "source": [
    "## Question 2 (6 points)\n",
    "\n",
    "Write an oracle for the graph described below to check whether it admits a valid 2-coloring. \n",
    "\n",
    "The function `oracle2` has\n",
    "\n",
    "* input: `qq`, a 12-qubit register \n",
    "* returns: None\n",
    "\n",
    "The function should append a sequence of gates to `qq` to check for a valid coloring. Don't append any measurements to `qq`.\n",
    "\n",
    "You can test the oracle with the provided `grover_diffusion`, `grover` and `oracle_computation2` functions.\n",
    "\n",
    "\n",
    "\n",
    "$G$ has 5 vertices. Use qubits 0-4 for the vertices, 5-10 for the edges and 11 as the ancilla.\n",
    "\n",
    "The list of edges:\n",
    "(0,3)\n",
    "(0,4)\n",
    "(1,3)\n",
    "(1,4)\n",
    "(2,3)\n",
    "(2,4)\n"
   ]
  },
  {
   "cell_type": "code",
   "execution_count": 8,
   "metadata": {
    "deletable": false,
    "nbgrader": {
     "cell_type": "code",
     "checksum": "16112e54c261f4b68868827304f15052",
     "grade": false,
     "grade_id": "cell-d0a829ac63d428cc",
     "locked": false,
     "schema_version": 3,
     "solution": true,
     "task": false
    }
   },
   "outputs": [],
   "source": [
    "def oracle2(qq):\n",
    "    # YOUR CODE HERE\n",
    "    qq_list = []\n",
    "    edges_list = [(0,3), (0,4), (1,3), (1,4), (2,3), (2,4)]\n",
    "\n",
    "    # circuit for vqe solution\n",
    "    #for i in edges_list:\n",
    "    #    qq_list.append(cirq.ZZ(qq[i[0]], qq[i[1]]))\n",
    "    \n",
    "    def edge_check(a, b, c):\n",
    "        qq_list.append(CX(qq[a], qq[c]))\n",
    "        qq_list.append(CX(qq[b], qq[c]))\n",
    "    store_q = 5\n",
    "    for i in edges_list:\n",
    "        edge_check(i[0],i[1],store_q)\n",
    "        store_q+=1\n",
    "    \n",
    "    qq_list.append(X(qq[11]).controlled_by(*(qq[5:11])))\n",
    "\n",
    "    \n",
    "    return qq_list"
   ]
  },
  {
   "cell_type": "code",
   "execution_count": 9,
   "metadata": {},
   "outputs": [],
   "source": [
    "# We need some code so you can check your solution\n",
    "def oracle_computation2(qq):\n",
    "    yield oracle2(qq)\n",
    "    yield Z(qq[11])\n",
    "    yield inverse(oracle2(qq))  "
   ]
  },
  {
   "cell_type": "code",
   "execution_count": 10,
   "metadata": {},
   "outputs": [],
   "source": [
    "def grover2(trials_number):    \n",
    "    import cirq\n",
    "    from cirq import X, H, Z, inverse, CX\n",
    "    s = cirq.Simulator()\n",
    "\n",
    "    qq = cirq.LineQubit.range(12)\n",
    "    n=5\n",
    "    \n",
    "    circuit = cirq.Circuit()\n",
    "    circuit.append(H.on_each(*(qq[0:n])))\n",
    "    for i in range(2):\n",
    "        circuit.append(oracle_computation2(qq))\n",
    "        circuit.append(grover_diffusion(qq,n))\n",
    "\n",
    "    circuit.append(cirq.measure(*(qq[0:n]), key='result'))\n",
    "\n",
    "    # determine the statistics of the measurements\n",
    "    samples = s.run(circuit, repetitions=trials_number)\n",
    "    result = samples.measurements[\"result\"]\n",
    "\n",
    "    def bitstring(bits):\n",
    "        return \"\".join(str(int(b)) for b in bits)\n",
    "\n",
    "    counts = samples.histogram(key=\"result\",fold_func=bitstring)\n",
    "    return counts"
   ]
  },
  {
   "cell_type": "code",
   "execution_count": 11,
   "metadata": {},
   "outputs": [
    {
     "data": {
      "text/plain": [
       "Counter({'00011': 463,\n",
       "         '11100': 437,\n",
       "         '11110': 4,\n",
       "         '10100': 6,\n",
       "         '10110': 4,\n",
       "         '01011': 7,\n",
       "         '11000': 4,\n",
       "         '00010': 5,\n",
       "         '10111': 4,\n",
       "         '00001': 1,\n",
       "         '01111': 3,\n",
       "         '01010': 3,\n",
       "         '00100': 2,\n",
       "         '10010': 5,\n",
       "         '01000': 3,\n",
       "         '01110': 3,\n",
       "         '00000': 1,\n",
       "         '11011': 3,\n",
       "         '01101': 5,\n",
       "         '11010': 2,\n",
       "         '10101': 3,\n",
       "         '10011': 3,\n",
       "         '11101': 5,\n",
       "         '00101': 3,\n",
       "         '00111': 5,\n",
       "         '11111': 2,\n",
       "         '10000': 4,\n",
       "         '01100': 4,\n",
       "         '00110': 1,\n",
       "         '10001': 1,\n",
       "         '01001': 2,\n",
       "         '11001': 2})"
      ]
     },
     "execution_count": 11,
     "metadata": {},
     "output_type": "execute_result"
    }
   ],
   "source": [
    "#You can use this cell to test your solution\n",
    "shots=1000\n",
    "grover2(shots)"
   ]
  },
  {
   "cell_type": "code",
   "execution_count": 12,
   "metadata": {
    "deletable": false,
    "editable": false,
    "nbgrader": {
     "cell_type": "code",
     "checksum": "4246ce18f04e859e5569cd7b80a1a3ee",
     "grade": true,
     "grade_id": "cell-f3af2ece23c10d8c",
     "locked": true,
     "points": 6,
     "schema_version": 3,
     "solution": false,
     "task": false
    }
   },
   "outputs": [],
   "source": [
    "# hidden tests in this cell will be used for grading."
   ]
  },
  {
   "attachments": {},
   "cell_type": "markdown",
   "metadata": {
    "deletable": false,
    "editable": false,
    "nbgrader": {
     "cell_type": "markdown",
     "checksum": "5c2f7023c6959816e24b4552b0900b64",
     "grade": false,
     "grade_id": "cell-70019a2ede111a61",
     "locked": true,
     "schema_version": 3,
     "solution": false,
     "task": false
    }
   },
   "source": [
    "## Question 3 (10 points)\n",
    "\n",
    "Write an oracle for the graph described below to check whether there exists a coloring with 4 edges connecting vertices with different colors.\n",
    "\n",
    "The function `oracle3` has\n",
    "\n",
    "* input: `qq`, a 13-qubit register \n",
    "* returns: None\n",
    "\n",
    "The function should append a sequence of gates to `qq` to check whether there exists a coloring with 4 edges connecting vertices with different colors. Don't append any measurements to `qq`.\n",
    "\n",
    "You can test the oracle with the provided `grover_diffusion`, `grover` and `oracle_computation3` functions.\n",
    "\n",
    "\n",
    "$G$ has 4 vertices. Use qubits 0-3 for the vertices, 4-8 for the edges, 9-11 for the addition and 12 as the ancilla.\n",
    "\n",
    "The list of edges: \n",
    "(0,1)\n",
    "(0,2)\n",
    "(0,3)\n",
    "(1,2)\n",
    "(1,3)\n",
    "\n"
   ]
  },
  {
   "cell_type": "code",
   "execution_count": 13,
   "metadata": {
    "deletable": false,
    "nbgrader": {
     "cell_type": "code",
     "checksum": "143856f98ba27993913f66a2e3ee33cf",
     "grade": false,
     "grade_id": "cell-a88eeb3907a822ff",
     "locked": false,
     "schema_version": 3,
     "solution": true,
     "task": false
    }
   },
   "outputs": [],
   "source": [
    "def oracle3(qq):\n",
    "    # YOUR CODE HERE\n",
    "    # in the graph you have 5 edges, so the maximum number of edges that you have to count will be 5, \n",
    "    # which is 101 in binary -> therefore you need 3 bits to represent the sum (the bit 9, 10, 11). \n",
    "    # and then check if this sum is equal to 4\n",
    "    \n",
    "    qq_list = []\n",
    "    edges_list = [(0,1),(0,2),(0,3),(1,2),(1,3)]\n",
    "    \n",
    "    def edge_check(a, b, c):\n",
    "        qq_list.append(CX(qq[a], qq[c]))\n",
    "        qq_list.append(CX(qq[b], qq[c]))\n",
    "    store_q = 4\n",
    "    for i in edges_list:\n",
    "        edge_check(i[0],i[1],store_q)\n",
    "        store_q+=1\n",
    "\n",
    "    # addition\n",
    "    node=4\n",
    "    n = node+5\n",
    "\n",
    "    # add qubit 4\n",
    "    qq_list.append(cirq.CX(qq[node], qq[n]))\n",
    "    \n",
    "    # add qubits 5-6\n",
    "    for j in range(5,7):\n",
    "        qq_list.append(cirq.CCX(qq[j], qq[n], qq[n+1]))\n",
    "        qq_list.append(cirq.CX(qq[j], qq[n]))\n",
    "    \n",
    "    # add qubits 7-8\n",
    "    for j in range(7,9):\n",
    "        qq_list.append(cirq.X(qq[n+2]).controlled_by(qq[j], qq[n],qq[n+1]))\n",
    "        qq_list.append(cirq.CCX(qq[j], qq[n], qq[n+1]))\n",
    "        qq_list.append(cirq.CX(qq[j], qq[n]))\n",
    "    \n",
    "    qq_list.append(X(qq[12]).controlled_by(*(qq[9:12]),control_values=[0,0,1]))\n",
    "    return qq_list"
   ]
  },
  {
   "cell_type": "code",
   "execution_count": 14,
   "metadata": {},
   "outputs": [],
   "source": [
    "# We need some code so you can check your solution\n",
    "def oracle_computation3(qq):\n",
    "    yield oracle3(qq)\n",
    "    yield Z(qq[12])\n",
    "    yield inverse(oracle3(qq))  "
   ]
  },
  {
   "cell_type": "code",
   "execution_count": 15,
   "metadata": {},
   "outputs": [],
   "source": [
    "import cirq\n",
    "from cirq import X, H, Z, inverse, CX, CCX\n",
    "    \n",
    "def grover3(trials_number):    \n",
    "    s = cirq.Simulator()\n",
    "\n",
    "    qq = cirq.LineQubit.range(13)\n",
    "    n=4\n",
    "\n",
    "    circuit = cirq.Circuit()\n",
    "    circuit.append(H.on_each(*(qq[0:n])))\n",
    "    for i in range(2):\n",
    "        circuit.append(oracle_computation3(qq))\n",
    "        circuit.append(grover_diffusion(qq,n))\n",
    "\n",
    "    circuit.append(cirq.measure(*(qq[0:n]), key='result'))\n",
    "\n",
    "    # determine the statistics of the measurements\n",
    "    samples = s.run(circuit, repetitions=trials_number)\n",
    "    result = samples.measurements[\"result\"]\n",
    "\n",
    "    def bitstring(bits):\n",
    "        return \"\".join(str(int(b)) for b in bits)\n",
    "\n",
    "    counts = samples.histogram(key=\"result\",fold_func=bitstring)\n",
    "    return counts"
   ]
  },
  {
   "cell_type": "code",
   "execution_count": 16,
   "metadata": {},
   "outputs": [
    {
     "data": {
      "text/plain": [
       "Counter({'0011': 482,\n",
       "         '1100': 449,\n",
       "         '0001': 6,\n",
       "         '1110': 8,\n",
       "         '1000': 3,\n",
       "         '0100': 11,\n",
       "         '1101': 6,\n",
       "         '1010': 2,\n",
       "         '1001': 4,\n",
       "         '1011': 3,\n",
       "         '0010': 3,\n",
       "         '0111': 4,\n",
       "         '0000': 8,\n",
       "         '1111': 4,\n",
       "         '0101': 2,\n",
       "         '0110': 5})"
      ]
     },
     "execution_count": 16,
     "metadata": {},
     "output_type": "execute_result"
    }
   ],
   "source": [
    "#You can use this cell to test your solution\n",
    "shots=1000\n",
    "grover3(shots)"
   ]
  },
  {
   "cell_type": "code",
   "execution_count": 17,
   "metadata": {
    "deletable": false,
    "editable": false,
    "nbgrader": {
     "cell_type": "code",
     "checksum": "2fb4f23a2628baa5c4bbd53548198e9c",
     "grade": true,
     "grade_id": "cell-e70ddbb5f64a88b3",
     "locked": true,
     "points": 10,
     "schema_version": 3,
     "solution": false,
     "task": false
    }
   },
   "outputs": [],
   "source": [
    "# hidden tests in this cell will be used for grading."
   ]
  },
  {
   "cell_type": "code",
   "execution_count": null,
   "metadata": {},
   "outputs": [],
   "source": []
  }
 ],
 "metadata": {
  "kernelspec": {
   "display_name": "Python 3",
   "language": "python",
   "name": "python3"
  },
  "language_info": {
   "codemirror_mode": {
    "name": "ipython",
    "version": 3
   },
   "file_extension": ".py",
   "mimetype": "text/x-python",
   "name": "python",
   "nbconvert_exporter": "python",
   "pygments_lexer": "ipython3",
   "version": "3.9.10"
  }
 },
 "nbformat": 4,
 "nbformat_minor": 4
}
